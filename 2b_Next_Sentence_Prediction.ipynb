{
 "cells": [
  {
   "cell_type": "markdown",
   "metadata": {
    "id": "ujfCHaxOJr8z"
   },
   "source": [
    "# BERT Next Sentence Prediction (NSP) Exploration\n",
    "\n",
    "This notebook explores the Next Sentence Prediction (NSP) task using the BERT model.\n",
    "\n",
    "**Objectives:**\n",
    "\n",
    "* Understand how BERT's NSP works.\n",
    "* Experiment with different sentence pairs to see how BERT predicts their relationship.\n",
    "* Analyze the impact of sentence similarity on NSP predictions."
   ]
  },
  {
   "cell_type": "code",
   "execution_count": null,
   "metadata": {
    "id": "6OYMDBCMWoEF"
   },
   "outputs": [],
   "source": [
    "!pip install transformers==4.28.1 --quiet"
   ]
  },
  {
   "cell_type": "code",
   "execution_count": null,
   "metadata": {
    "id": "yqkh2TZNt4p8"
   },
   "outputs": [],
   "source": [
    "import torch\n",
    "from transformers import BertTokenizer, BertForNextSentencePrediction\n",
    "\n",
    "# Load pre-trained model tokenizer (vocabulary)\n",
    "tokenizer = BertTokenizer.from_pretrained('bert-base-uncased')\n",
    "\n",
    "# Load pre-trained model (weights)\n",
    "model = BertForNextSentencePrediction.from_pretrained('bert-base-uncased')\n",
    "model = model.to('cuda' if torch.cuda.is_available() else 'cpu') # Use cuda if available, fallback to cpu\n",
    "model = model.eval() # This is important as it stops dropouts"
   ]
  },
  {
   "cell_type": "code",
   "execution_count": null,
   "metadata": {
    "id": "XXR9x8DTyhA6"
   },
   "outputs": [],
   "source": [
    "def predict_nsp(sentence1, sentence2, model, tokenizer):\n",
    "  \"\"\"\n",
    "  Calculates the probability that sentence2 follows sentence1.\n",
    "\n",
    "  Args:\n",
    "      sentence1 (str): The first sentence.\n",
    "      sentence2 (str): The second sentence.\n",
    "      model (BertForNextSentencePrediction): The pre-trained BERT model.\n",
    "      tokenizer (BertTokenizer): The tokenizer associated with the model.\n",
    "\n",
    "  Returns:\n",
    "      float: The probability that sentence2 follows sentence1.\n",
    "  \"\"\"\n",
    "  inputs = tokenizer(sentence1, sentence2, return_tensors='pt', padding=True, truncation=True)\n",
    "  inputs = {k: v.to(model.device) for k, v in inputs.items()}\n",
    "  outputs = model(**inputs)\n",
    "  probability = torch.softmax(outputs.logits, dim=1)[:, 0].item()\n",
    "  return probability"
   ]
  },
  {
   "cell_type": "code",
   "execution_count": null,
   "metadata": {
    "id": "M6TkJCuyRZiS"
   },
   "outputs": [],
   "source": [
    "# Example usage\n",
    "sentence1 = \"Who was Jim Henson?\"\n",
    "sentence2 = \"Jim Henson was a puppeteer.\"\n",
    "sentence3 = \"Paris is in France.\"\n",
    "\n",
    "probability1 = predict_nsp(sentence1, sentence2, model, tokenizer)\n",
    "probability2 = predict_nsp(sentence1, sentence3, model, tokenizer)\n",
    "\n",
    "print(f\"Probability that '{sentence2}' follows '{sentence1}': {probability1:.4f}\")\n",
    "print(f\"Probability that '{sentence3}' follows '{sentence1}': {probability2:.4f}\")"
   ]
  },
  {
   "cell_type": "markdown",
   "metadata": {
    "id": "ZxK1ZhepKYjR"
   },
   "source": [
    "## Exploring Next Sentence Prediction (NSP)\n",
    "\n",
    "**Task:**\n",
    "\n",
    "1. **Experiment with Sentence Pairs:**  Try out different sentence pairs using the `predict_nsp` function. Vary the semantic relationship between the sentences (e.g., related, unrelated, contradictory) to see how BERT's predictions change.\n",
    "\n",
    "2. **The [CLS] Token:**  In the tokenized input, you'll notice the special token `[CLS]` at the beginning. This token plays a crucial role in NSP. Research and explain its purpose in the context of BERT's architecture.\n",
    "\n",
    "**Example:**\n",
    "\n"
   ]
  },
  {
   "cell_type": "code",
   "execution_count": null,
   "metadata": {
    "id": "xuk5m4JUKn1U"
   },
   "outputs": [],
   "source": [
    "# Try your own sentences here\n",
    "\n",
    "your_sentence1 = \"The cat sat on the mat.\"\n",
    "your_sentence2 = \"Dogs are loyal companions.\"\n",
    "\n",
    "probability = predict_nsp(your_sentence1, your_sentence2, model, tokenizer)\n",
    "print(f\"Probability: {probability:.4f}\")"
   ]
  }
 ],
 "metadata": {
  "accelerator": "GPU",
  "colab": {
   "private_outputs": true,
   "provenance": []
  },
  "kernelspec": {
   "display_name": "Python 3",
   "name": "python3"
  }
 },
 "nbformat": 4,
 "nbformat_minor": 0
}
