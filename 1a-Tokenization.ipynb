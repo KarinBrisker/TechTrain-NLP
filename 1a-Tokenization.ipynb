{
 "cells": [
  {
   "cell_type": "markdown",
   "metadata": {
    "id": "sXrxly4O9GC-"
   },
   "source": [
    "# Tokenization Methods\n",
    "\n",
    "**Objective**:\n",
    "* Explore how different tokenization methods (word-level, character-level, and subword-level using BPE) affect the performance of a text classification model.\n",
    "* Gain practical experience in preprocessing, tokenization, model training, and evaluation in NLP.\n",
    "\n",
    "**Dataset**:\n",
    "\n",
    "> We’ll use the IMDb Movie Reviews dataset, which contains labeled positive and negative movie reviews. This dataset includes natural language, slang, and rare words, making tokenizer choice significant.\n",
    "\n",
    "**Instructions:**\n",
    "\n",
    "*\tImplement the tokenization functions where indicated.\n",
    "*\tExperiment with different parameters and observe the effects.\n",
    "*\tAnswer the thought exercises to deepen your understanding.\n"
   ]
  },
  {
   "cell_type": "markdown",
   "metadata": {
    "id": "pwnmUJYW-Xx3"
   },
   "source": [
    "## Step 1: Import Necessary Libraries\n",
    "\n",
    "*In this step, we'll import all the required libraries for the exercise.*"
   ]
  },
  {
   "cell_type": "code",
   "execution_count": null,
   "metadata": {
    "colab": {
     "base_uri": "https://localhost:8080/"
    },
    "executionInfo": {
     "elapsed": 281,
     "status": "ok",
     "timestamp": 1731190563556,
     "user": {
      "displayName": "Karin Brisker",
      "userId": "08156157394438214482"
     },
     "user_tz": -120
    },
    "id": "fVg6m8rk9BeY",
    "outputId": "122a6662-db44-4f57-da82-ba871c029db5"
   },
   "outputs": [],
   "source": [
    "# Standard libraries\n",
    "import nltk\n",
    "import pandas as pd\n",
    "import numpy as np\n",
    "\n",
    "# For tokenization and BPE\n",
    "from nltk.tokenize import word_tokenize\n",
    "from sklearn.model_selection import train_test_split\n",
    "from sklearn.feature_extraction.text import CountVectorizer\n",
    "from sklearn.naive_bayes import MultinomialNB\n",
    "from sklearn.metrics import accuracy_score, f1_score, classification_report\n",
    "import matplotlib.pyplot as plt\n",
    "\n",
    "# Download necessary NLTK resources\n",
    "nltk.download('punkt')\n",
    "nltk.download('movie_reviews')"
   ]
  },
  {
   "cell_type": "markdown",
   "metadata": {
    "id": "0p6tYmRW9D5v"
   },
   "source": [
    "## Step 2: Load the Dataset\n",
    "\n",
    "*Here, we'll load the movie reviews dataset and create a DataFrame.*"
   ]
  },
  {
   "cell_type": "code",
   "execution_count": null,
   "metadata": {
    "colab": {
     "base_uri": "https://localhost:8080/"
    },
    "executionInfo": {
     "elapsed": 321,
     "status": "ok",
     "timestamp": 1731190564159,
     "user": {
      "displayName": "Karin Brisker",
      "userId": "08156157394438214482"
     },
     "user_tz": -120
    },
    "id": "UyTv7LAq9Doi",
    "outputId": "745d720c-f6ec-4b2e-ee0d-7e721b2e4c99"
   },
   "outputs": [],
   "source": [
    "# Build a DataFrame from the movie reviews\n",
    "from nltk.corpus import movie_reviews\n",
    "\n",
    "documents = [(movie_reviews.raw(fileid), category)\n",
    "             for category in movie_reviews.categories()\n",
    "             for fileid in movie_reviews.fileids(category)]\n",
    "\n",
    "df = pd.DataFrame(documents, columns=['review', 'sentiment'])\n",
    "print(\"Sample data:\")\n",
    "print(df.head())"
   ]
  },
  {
   "cell_type": "markdown",
   "metadata": {
    "id": "xT_CJ9IC9D_9"
   },
   "source": [
    "## Step 3: Data Preprocessing\n",
    "\n",
    "*In this step, we'll convert labels to numerical values and split the data into training and testing sets.*"
   ]
  },
  {
   "cell_type": "code",
   "execution_count": 46,
   "metadata": {
    "executionInfo": {
     "elapsed": 1,
     "status": "ok",
     "timestamp": 1731190564159,
     "user": {
      "displayName": "Karin Brisker",
      "userId": "08156157394438214482"
     },
     "user_tz": -120
    },
    "id": "UIh10Ufy-nM8"
   },
   "outputs": [],
   "source": [
    "# Convert labels to binary values\n",
    "df['sentiment_num'] = df.sentiment.map({'neg': 0, 'pos': 1})\n",
    "\n",
    "# Split the data\n",
    "X = df['review']\n",
    "y = df['sentiment_num']\n",
    "X_train, X_test, y_train, y_test = train_test_split(X, y, test_size=0.2, random_state=42)"
   ]
  },
  {
   "cell_type": "markdown",
   "metadata": {
    "id": "iRst49WQ9EDv"
   },
   "source": [
    "## Step 4: Define Tokenization Functions\n",
    "\n",
    "*Implement the tokenization functions below. You'll create functions for word-level, character-level, and subword-level (BPE) tokenization.*\n",
    "\n",
    "### Task: Implement the Tokenizers\n",
    "\n",
    "- **Word-Level Tokenization:** Use NLTK's `word_tokenize`.\n",
    "- **Character-Level Tokenization:** Convert the text into a list of characters.\n",
    "- **Subword-Level Tokenization (BPE):** Train a BPE tokenizer on the training data using `sentencepiece`."
   ]
  },
  {
   "cell_type": "code",
   "execution_count": 47,
   "metadata": {
    "executionInfo": {
     "elapsed": 3109,
     "status": "ok",
     "timestamp": 1731190567267,
     "user": {
      "displayName": "Karin Brisker",
      "userId": "08156157394438214482"
     },
     "user_tz": -120
    },
    "id": "TYSt_btP-u9V"
   },
   "outputs": [],
   "source": [
    "# TODO: Implement the tokenization functions\n",
    "\n",
    "# Word-Level Tokenization\n",
    "def tokenize_word_level(text):\n",
    "  # Your code here\n",
    "  return tokens\n",
    "\n",
    "# Character-Level Tokenization\n",
    "def tokenize_char_level(text):\n",
    "  # Your code here\n",
    "  return tokens\n",
    "\n",
    "# Subword-Level Tokenization (BPE)\n",
    "# First, train a BPE tokenizer on the training data\n",
    "import sentencepiece as spm\n",
    "\n",
    "# Save training reviews to a file\n",
    "with open('bpe_train.txt', 'w', encoding='utf-8') as f:\n",
    "    for line in X_train:\n",
    "        f.write(line + '\\n')\n",
    "\n",
    "# Train BPE model\n",
    "# Your code here - play with hyperparams\n",
    "spm.SentencePieceTrainer.train(input='bpe_train.txt', model_prefix='bpe', vocab_size=5000, model_type='bpe')\n",
    "\n",
    "# Load the trained model\n",
    "sp = spm.SentencePieceProcessor()\n",
    "sp.load('bpe.model')\n",
    "\n",
    "def tokenize_bpe(text):\n",
    "    tokens = sp.encode(text, out_type=str)\n",
    "    return tokens"
   ]
  },
  {
   "cell_type": "markdown",
   "metadata": {
    "id": "B4P3-phm-x2s"
   },
   "source": [
    "## Step 5: Vectorization and Model Training\n",
    "\n",
    "*Here, we'll create a function to vectorize the data and train the model.*\n",
    "\n",
    "### Task: Complete the `vectorize_and_train` Function\n",
    "\n",
    "- Adjust the function to print the number of features (vocabulary size).\n",
    "- Ensure it works correctly with different tokenizers."
   ]
  },
  {
   "cell_type": "code",
   "execution_count": 48,
   "metadata": {
    "executionInfo": {
     "elapsed": 2,
     "status": "ok",
     "timestamp": 1731190567267,
     "user": {
      "displayName": "Karin Brisker",
      "userId": "08156157394438214482"
     },
     "user_tz": -120
    },
    "id": "R0O4phSn-0Zr"
   },
   "outputs": [],
   "source": [
    "def vectorize_and_train(X_train, X_test, y_train, y_test, tokenizer, tokenizer_name):\n",
    "    # Tokenize the text\n",
    "    if tokenizer_name == 'Character-Level':\n",
    "        # For character-level tokenization, use analyzer='char'\n",
    "        vectorizer = CountVectorizer(analyzer='char')\n",
    "        X_train_vec = vectorizer.fit_transform(X_train)\n",
    "        X_test_vec = vectorizer.transform(X_test)\n",
    "    else:\n",
    "        # For other tokenizers\n",
    "        X_train_tokens = [' '.join(tokenizer(text.lower())) for text in X_train]\n",
    "        X_test_tokens = [' '.join(tokenizer(text.lower())) for text in X_test]\n",
    "\n",
    "        vectorizer = CountVectorizer()\n",
    "        X_train_vec = vectorizer.fit_transform(X_train_tokens)\n",
    "        X_test_vec = vectorizer.transform(X_test_tokens)\n",
    "\n",
    "    # Print vocabulary size\n",
    "    print(f\"Vocabulary size using {tokenizer_name}: {len(vectorizer.get_feature_names_out())}\")\n",
    "\n",
    "    # Train MultinomialNB classifier\n",
    "    model = MultinomialNB()\n",
    "    model.fit(X_train_vec, y_train)\n",
    "    y_pred = model.predict(X_test_vec)\n",
    "\n",
    "    # Evaluate the model\n",
    "    accuracy = accuracy_score(y_test, y_pred)\n",
    "    f1 = f1_score(y_test, y_pred)\n",
    "\n",
    "    print(f\"Results using {tokenizer_name} Tokenization:\")\n",
    "    print(f\"Accuracy: {accuracy:.4f}\")\n",
    "    print(f\"F1 Score: {f1:.4f}\")\n",
    "    print(classification_report(y_test, y_pred))\n",
    "    print(\"-\" * 50)\n",
    "\n",
    "    return accuracy, f1"
   ]
  },
  {
   "cell_type": "markdown",
   "metadata": {
    "id": "xBAWexQg9EG1"
   },
   "source": [
    "## Step 6: Run Experiments with Different Tokenizers\n",
    "\n",
    "*Now, we'll run the experiments with the different tokenizers and collect the results.*"
   ]
  },
  {
   "cell_type": "code",
   "execution_count": null,
   "metadata": {
    "colab": {
     "base_uri": "https://localhost:8080/"
    },
    "executionInfo": {
     "elapsed": 23027,
     "status": "ok",
     "timestamp": 1731190590293,
     "user": {
      "displayName": "Karin Brisker",
      "userId": "08156157394438214482"
     },
     "user_tz": -120
    },
    "id": "JkqtxKdg-5Vm",
    "outputId": "748592b2-1930-4e64-f856-9004ebf01095"
   },
   "outputs": [],
   "source": [
    "# Dictionary to store results\n",
    "results = {}\n",
    "\n",
    "# Word-Level Tokenization\n",
    "accuracy_word, f1_word = vectorize_and_train(X_train, X_test, y_train, y_test, tokenize_word_level, 'Word-Level')\n",
    "results['Word-Level'] = {'Accuracy': accuracy_word, 'F1 Score': f1_word}\n",
    "\n",
    "# Character-Level Tokenization\n",
    "accuracy_char, f1_char = vectorize_and_train(X_train, X_test, y_train, y_test, None, 'Character-Level')\n",
    "results['Character-Level'] = {'Accuracy': accuracy_char, 'F1 Score': f1_char}\n",
    "\n",
    "# BPE Tokenization\n",
    "accuracy_bpe, f1_bpe = vectorize_and_train(X_train, X_test, y_train, y_test, tokenize_bpe, 'BPE')\n",
    "results['BPE'] = {'Accuracy': accuracy_bpe, 'F1 Score': f1_bpe}"
   ]
  },
  {
   "cell_type": "markdown",
   "metadata": {
    "id": "xPu_UQOw-8ZS"
   },
   "source": [
    "## Step 7: Analyze and Discuss the Results\n",
    "\n",
    "*We'll gather the results into a DataFrame and display a graph.*"
   ]
  },
  {
   "cell_type": "code",
   "execution_count": null,
   "metadata": {
    "colab": {
     "base_uri": "https://localhost:8080/",
     "height": 649
    },
    "executionInfo": {
     "elapsed": 5,
     "status": "ok",
     "timestamp": 1731190590293,
     "user": {
      "displayName": "Karin Brisker",
      "userId": "08156157394438214482"
     },
     "user_tz": -120
    },
    "id": "IG-P43OV_yjj",
    "outputId": "adf4ec05-c58a-47ef-8e63-6848a7067129"
   },
   "outputs": [],
   "source": [
    "# Create a DataFrame from the results\n",
    "results_df = pd.DataFrame(results).T\n",
    "print(\"\\nSummary of results:\")\n",
    "print(results_df)\n",
    "\n",
    "# Display the results in a bar chart\n",
    "results_df.plot(kind='bar', ylim=(0,1), figsize=(8,6))\n",
    "plt.title('Model Performance with Different Tokenization Methods')\n",
    "plt.ylabel('Score')\n",
    "plt.xticks(rotation=0)\n",
    "plt.legend(loc='lower right')\n",
    "plt.show()"
   ]
  },
  {
   "cell_type": "markdown",
   "metadata": {
    "id": "N5TIPijJ_JBM"
   },
   "source": [
    "## Step 8: Additional Analysis\n",
    "\n",
    "*We'll display the number of tokens each tokenizer produces on a sample text.*\n",
    "\n",
    "### Task: Analyze the Token Counts\n",
    "\n",
    "- Select a sample text from `X_train`.\n",
    "- Use each tokenizer to tokenize the sample text.\n",
    "- Print the number of tokens produced by each tokenizer."
   ]
  },
  {
   "cell_type": "code",
   "execution_count": null,
   "metadata": {
    "colab": {
     "base_uri": "https://localhost:8080/"
    },
    "executionInfo": {
     "elapsed": 260,
     "status": "ok",
     "timestamp": 1731190590550,
     "user": {
      "displayName": "Karin Brisker",
      "userId": "08156157394438214482"
     },
     "user_tz": -120
    },
    "id": "rwqRugLl_LWM",
    "outputId": "65d53e5a-7274-469e-e493-d9d33776cd63"
   },
   "outputs": [],
   "source": [
    "# Select a sample text\n",
    "sample_text = X_train.iloc[0]\n",
    "\n",
    "# Tokenize with different tokenizers\n",
    "tokens_word = tokenize_word_level(sample_text)\n",
    "tokens_char = tokenize_char_level(sample_text)\n",
    "tokens_bpe = tokenize_bpe(sample_text)\n",
    "\n",
    "# Print the number of tokens\n",
    "print(\"Number of tokens in the sample text:\")\n",
    "print(f\"Word-Level Tokenization: {len(tokens_word)} tokens\")\n",
    "print(f\"Character-Level Tokenization: {len(tokens_char)} tokens\")\n",
    "print(f\"BPE Tokenization: {len(tokens_bpe)} tokens\")"
   ]
  },
  {
   "cell_type": "markdown",
   "metadata": {
    "id": "ZGLH286__PAu"
   },
   "source": [
    "## Thought Exercises\n",
    "\n",
    "1. **Impact of Vocabulary Size:**\n",
    "   - **Question:** How does the vocabulary size differ between tokenization methods, and what is the impact on the model?\n",
    "\n",
    "2. **Trade-offs in Tokenization:**\n",
    "   - **Question:** What are the advantages and disadvantages of each tokenization method in handling rare or unknown words?\n",
    "\n",
    "3. **Model Performance:**\n",
    "   - **Question:** Why might one tokenization method yield better performance than others in this classification task?\n"
   ]
  }
 ],
 "metadata": {
  "colab": {
   "authorship_tag": "ABX9TyNwDISPXRAs1SY5htsNkNtb",
   "provenance": [],
   "toc_visible": true
  },
  "kernelspec": {
   "display_name": "Python 3",
   "name": "python3"
  },
  "language_info": {
   "codemirror_mode": {
    "name": "ipython",
    "version": 3
   },
   "file_extension": ".py",
   "mimetype": "text/x-python",
   "name": "python",
   "nbconvert_exporter": "python",
   "pygments_lexer": "ipython3",
   "version": "3.12.1"
  }
 },
 "nbformat": 4,
 "nbformat_minor": 0
}
