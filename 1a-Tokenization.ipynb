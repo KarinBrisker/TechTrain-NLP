{
 "cells": [
  {
   "cell_type": "markdown",
   "metadata": {
    "id": "sXrxly4O9GC-"
   },
   "source": [
    "# Tokenization Methods\n",
    "\n",
    "**Objective**:\n",
    "* Explore how different tokenization methods (word-level, character-level, and subword-level using BPE) affect the performance of a text classification model.\n",
    "* Gain practical experience in preprocessing, tokenization, model training, and evaluation in NLP.\n",
    "\n",
    "**Dataset**:\n",
    "\n",
    "> We’ll use the IMDb Movie Reviews dataset, which contains labeled positive and negative movie reviews. This dataset includes natural language, slang, and rare words, making tokenizer choice significant.\n",
    "\n",
    "**Instructions:**\n",
    "\n",
    "*\tImplement the tokenization functions where indicated.\n",
    "*\tExperiment with different parameters and observe the effects.\n",
    "*\tAnswer the thought exercises to deepen your understanding.\n"
   ]
  },
  {
   "cell_type": "markdown",
   "metadata": {},
   "source": [
    "## Setup\n",
    "\n",
    "### Codespace\n",
    "1. Open repo in Codespace\n",
    "2. Install Jupyter extension\n",
    "\n",
    "### Terminal\n",
    "1. `python3 -m venv .venv`\n",
    "2. `source .venv/bin/activate`"
   ]
  },
  {
   "cell_type": "code",
   "execution_count": 21,
   "metadata": {},
   "outputs": [
    {
     "name": "stdout",
     "output_type": "stream",
     "text": [
      "Requirement already satisfied: nltk in /home/codespace/.python/current/lib/python3.12/site-packages (3.9.1)\n",
      "Requirement already satisfied: sentencepiece in /home/codespace/.python/current/lib/python3.12/site-packages (0.2.0)\n",
      "Requirement already satisfied: click in /home/codespace/.python/current/lib/python3.12/site-packages (from nltk) (8.1.7)\n",
      "Requirement already satisfied: joblib in /home/codespace/.local/lib/python3.12/site-packages (from nltk) (1.4.2)\n",
      "Requirement already satisfied: regex>=2021.8.3 in /home/codespace/.python/current/lib/python3.12/site-packages (from nltk) (2024.11.6)\n",
      "Requirement already satisfied: tqdm in /home/codespace/.python/current/lib/python3.12/site-packages (from nltk) (4.67.0)\n",
      "\n",
      "\u001b[1m[\u001b[0m\u001b[34;49mnotice\u001b[0m\u001b[1;39;49m]\u001b[0m\u001b[39;49m A new release of pip is available: \u001b[0m\u001b[31;49m24.2\u001b[0m\u001b[39;49m -> \u001b[0m\u001b[32;49m24.3.1\u001b[0m\n",
      "\u001b[1m[\u001b[0m\u001b[34;49mnotice\u001b[0m\u001b[1;39;49m]\u001b[0m\u001b[39;49m To update, run: \u001b[0m\u001b[32;49mpip install --upgrade pip\u001b[0m\n",
      "Note: you may need to restart the kernel to use updated packages.\n"
     ]
    }
   ],
   "source": [
    "%pip install nltk sentencepiece"
   ]
  },
  {
   "cell_type": "markdown",
   "metadata": {
    "id": "pwnmUJYW-Xx3"
   },
   "source": [
    "## Step 1: Import Necessary Libraries\n",
    "\n",
    "*In this step, we'll import all the required libraries for the exercise.*"
   ]
  },
  {
   "cell_type": "code",
   "execution_count": 22,
   "metadata": {
    "colab": {
     "base_uri": "https://localhost:8080/"
    },
    "executionInfo": {
     "elapsed": 281,
     "status": "ok",
     "timestamp": 1731190563556,
     "user": {
      "displayName": "Karin Brisker",
      "userId": "08156157394438214482"
     },
     "user_tz": -120
    },
    "id": "fVg6m8rk9BeY",
    "outputId": "122a6662-db44-4f57-da82-ba871c029db5"
   },
   "outputs": [
    {
     "name": "stderr",
     "output_type": "stream",
     "text": [
      "[nltk_data] Downloading package punkt to /home/codespace/nltk_data...\n",
      "[nltk_data]   Package punkt is already up-to-date!\n",
      "[nltk_data] Downloading package punkt_tab to\n",
      "[nltk_data]     /home/codespace/nltk_data...\n",
      "[nltk_data]   Unzipping tokenizers/punkt_tab.zip.\n",
      "[nltk_data] Downloading package movie_reviews to\n",
      "[nltk_data]     /home/codespace/nltk_data...\n",
      "[nltk_data]   Package movie_reviews is already up-to-date!\n"
     ]
    },
    {
     "data": {
      "text/plain": [
       "True"
      ]
     },
     "execution_count": 22,
     "metadata": {},
     "output_type": "execute_result"
    }
   ],
   "source": [
    "# Standard libraries\n",
    "import nltk\n",
    "import pandas as pd\n",
    "import numpy as np\n",
    "\n",
    "# For tokenization and BPE\n",
    "from nltk.tokenize import word_tokenize\n",
    "from sklearn.model_selection import train_test_split\n",
    "from sklearn.feature_extraction.text import CountVectorizer\n",
    "from sklearn.naive_bayes import MultinomialNB\n",
    "from sklearn.metrics import accuracy_score, f1_score, classification_report\n",
    "import matplotlib.pyplot as plt\n",
    "\n",
    "# Download necessary NLTK resources\n",
    "nltk.download('punkt')\n",
    "nltk.download('punkt_tab')\n",
    "nltk.download('movie_reviews')"
   ]
  },
  {
   "cell_type": "markdown",
   "metadata": {
    "id": "0p6tYmRW9D5v"
   },
   "source": [
    "## Step 2: Load the Dataset\n",
    "\n",
    "*Here, we'll load the movie reviews dataset and create a DataFrame.*"
   ]
  },
  {
   "cell_type": "code",
   "execution_count": 23,
   "metadata": {
    "colab": {
     "base_uri": "https://localhost:8080/"
    },
    "executionInfo": {
     "elapsed": 321,
     "status": "ok",
     "timestamp": 1731190564159,
     "user": {
      "displayName": "Karin Brisker",
      "userId": "08156157394438214482"
     },
     "user_tz": -120
    },
    "id": "UyTv7LAq9Doi",
    "outputId": "745d720c-f6ec-4b2e-ee0d-7e721b2e4c99"
   },
   "outputs": [
    {
     "name": "stdout",
     "output_type": "stream",
     "text": [
      "Sample data:\n",
      "                                              review sentiment\n",
      "0  plot : two teen couples go to a church party ,...       neg\n",
      "1  the happy bastard's quick movie review \\ndamn ...       neg\n",
      "2  it is movies like these that make a jaded movi...       neg\n",
      "3   \" quest for camelot \" is warner bros . ' firs...       neg\n",
      "4  synopsis : a mentally unstable man undergoing ...       neg\n"
     ]
    }
   ],
   "source": [
    "# Build a DataFrame from the movie reviews\n",
    "from nltk.corpus import movie_reviews\n",
    "\n",
    "documents = [(movie_reviews.raw(fileid), category)\n",
    "             for category in movie_reviews.categories()\n",
    "             for fileid in movie_reviews.fileids(category)]\n",
    "\n",
    "df = pd.DataFrame(documents, columns=['review', 'sentiment'])\n",
    "print(\"Sample data:\")\n",
    "print(df.head())"
   ]
  },
  {
   "cell_type": "markdown",
   "metadata": {
    "id": "xT_CJ9IC9D_9"
   },
   "source": [
    "## Step 3: Data Preprocessing\n",
    "\n",
    "*In this step, we'll convert labels to numerical values and split the data into training and testing sets.*"
   ]
  },
  {
   "cell_type": "code",
   "execution_count": 24,
   "metadata": {
    "executionInfo": {
     "elapsed": 1,
     "status": "ok",
     "timestamp": 1731190564159,
     "user": {
      "displayName": "Karin Brisker",
      "userId": "08156157394438214482"
     },
     "user_tz": -120
    },
    "id": "UIh10Ufy-nM8"
   },
   "outputs": [],
   "source": [
    "# Convert labels to binary values\n",
    "df['sentiment_num'] = df.sentiment.map({'neg': 0, 'pos': 1})\n",
    "\n",
    "# Split the data\n",
    "X = df['review']\n",
    "y = df['sentiment_num']\n",
    "X_train, X_test, y_train, y_test = train_test_split(X, y, test_size=0.2, random_state=42)"
   ]
  },
  {
   "cell_type": "markdown",
   "metadata": {
    "id": "iRst49WQ9EDv"
   },
   "source": [
    "## Step 4: Define Tokenization Functions\n",
    "\n",
    "*Implement the tokenization functions below. You'll create functions for word-level, character-level, and subword-level (BPE) tokenization.*\n",
    "\n",
    "### Task: Implement the Tokenizers\n",
    "\n",
    "- **Word-Level Tokenization:** Use NLTK's `word_tokenize`.\n",
    "- **Character-Level Tokenization:** Convert the text into a list of characters.\n",
    "- **Subword-Level Tokenization (BPE):** Train a BPE tokenizer on the training data using `sentencepiece`."
   ]
  },
  {
   "cell_type": "code",
   "execution_count": null,
   "metadata": {
    "executionInfo": {
     "elapsed": 3109,
     "status": "ok",
     "timestamp": 1731190567267,
     "user": {
      "displayName": "Karin Brisker",
      "userId": "08156157394438214482"
     },
     "user_tz": -120
    },
    "id": "TYSt_btP-u9V"
   },
   "outputs": [
    {
     "name": "stderr",
     "output_type": "stream",
     "text": [
      "sentencepiece_trainer.cc(78) LOG(INFO) Starts training with : \n",
      "trainer_spec {\n",
      "  input: bpe_train.txt\n",
      "  input_format: \n",
      "  model_prefix: bpe\n",
      "  model_type: BPE\n",
      "  vocab_size: 5000\n",
      "  self_test_sample_size: 0\n",
      "  character_coverage: 0.9995\n",
      "  input_sentence_size: 0\n",
      "  shuffle_input_sentence: 1\n",
      "  seed_sentencepiece_size: 1000000\n",
      "  shrinking_factor: 0.75\n",
      "  max_sentence_length: 4192\n",
      "  num_threads: 16\n",
      "  num_sub_iterations: 2\n",
      "  max_sentencepiece_length: 16\n",
      "  split_by_unicode_script: 1\n",
      "  split_by_number: 1\n",
      "  split_by_whitespace: 1\n",
      "  split_digits: 0\n",
      "  pretokenization_delimiter: \n",
      "  treat_whitespace_as_suffix: 0\n",
      "  allow_whitespace_only_pieces: 0\n",
      "  required_chars: \n",
      "  byte_fallback: 0\n",
      "  vocabulary_output_piece_score: 1\n",
      "  train_extremely_large_corpus: 0\n",
      "  seed_sentencepieces_file: \n",
      "  hard_vocab_limit: 1\n",
      "  use_all_vocab: 0\n",
      "  unk_id: 0\n",
      "  bos_id: 1\n",
      "  eos_id: 2\n",
      "  pad_id: -1\n",
      "  unk_piece: <unk>\n",
      "  bos_piece: <s>\n",
      "  eos_piece: </s>\n",
      "  pad_piece: <pad>\n",
      "  unk_surface:  ⁇ \n",
      "  enable_differential_privacy: 0\n",
      "  differential_privacy_noise_level: 0\n",
      "  differential_privacy_clipping_threshold: 0\n",
      "}\n",
      "normalizer_spec {\n",
      "  name: nmt_nfkc\n",
      "  add_dummy_prefix: 1\n",
      "  remove_extra_whitespaces: 1\n",
      "  escape_whitespaces: 1\n",
      "  normalization_rule_tsv: \n",
      "}\n",
      "denormalizer_spec {}\n",
      "trainer_interface.cc(353) LOG(INFO) SentenceIterator is not specified. Using MultiFileSentenceIterator.\n",
      "trainer_interface.cc(185) LOG(INFO) Loading corpus: bpe_train.txt\n",
      "trainer_interface.cc(409) LOG(INFO) Loaded all 51488 sentences\n",
      "trainer_interface.cc(425) LOG(INFO) Adding meta_piece: <unk>\n",
      "trainer_interface.cc(425) LOG(INFO) Adding meta_piece: <s>\n",
      "trainer_interface.cc(425) LOG(INFO) Adding meta_piece: </s>\n",
      "trainer_interface.cc(430) LOG(INFO) Normalizing sentences...\n",
      "trainer_interface.cc(539) LOG(INFO) all chars count=6170430\n",
      "trainer_interface.cc(550) LOG(INFO) Done: 99.9555% characters are covered.\n",
      "trainer_interface.cc(560) LOG(INFO) Alphabet size=49\n",
      "trainer_interface.cc(561) LOG(INFO) Final character coverage=0.999554\n",
      "trainer_interface.cc(592) LOG(INFO) Done! preprocessed 51488 sentences.\n",
      "trainer_interface.cc(598) LOG(INFO) Tokenizing input sentences with whitespace: 51488\n",
      "trainer_interface.cc(609) LOG(INFO) Done! 45652\n",
      "bpe_model_trainer.cc(159) LOG(INFO) Updating active symbols. max_freq=156759 min_freq=1\n",
      "bpe_model_trainer.cc(268) LOG(INFO) Added: freq=41882 size=20 all=1427 active=1377 piece=ha\n",
      "bpe_model_trainer.cc(268) LOG(INFO) Added: freq=21934 size=40 all=2384 active=2334 piece=ic\n",
      "bpe_model_trainer.cc(268) LOG(INFO) Added: freq=14040 size=60 all=3394 active=3344 piece=▁\"\n",
      "bpe_model_trainer.cc(268) LOG(INFO) Added: freq=10549 size=80 all=4380 active=4330 piece=ow\n",
      "bpe_model_trainer.cc(268) LOG(INFO) Added: freq=7807 size=100 all=5258 active=5208 piece=▁his\n",
      "bpe_model_trainer.cc(159) LOG(INFO) Updating active symbols. max_freq=7767 min_freq=542\n",
      "bpe_model_trainer.cc(268) LOG(INFO) Added: freq=5828 size=120 all=6228 active=1967 piece=▁not\n",
      "bpe_model_trainer.cc(268) LOG(INFO) Added: freq=4841 size=140 all=6932 active=2671 piece=��ne\n",
      "bpe_model_trainer.cc(268) LOG(INFO) Added: freq=4117 size=160 all=7844 active=3583 piece=▁whe\n",
      "bpe_model_trainer.cc(268) LOG(INFO) Added: freq=3847 size=180 all=8658 active=4397 piece=▁they\n",
      "bpe_model_trainer.cc(268) LOG(INFO) Added: freq=3355 size=200 all=9836 active=5575 piece=▁ro\n",
      "bpe_model_trainer.cc(159) LOG(INFO) Updating active symbols. max_freq=3329 min_freq=485\n",
      "bpe_model_trainer.cc(268) LOG(INFO) Added: freq=2966 size=220 all=10648 active=1777 piece=au\n",
      "bpe_model_trainer.cc(268) LOG(INFO) Added: freq=2567 size=240 all=11214 active=2343 piece=ory\n",
      "bpe_model_trainer.cc(268) LOG(INFO) Added: freq=2365 size=260 all=11830 active=2959 piece=ound\n",
      "bpe_model_trainer.cc(268) LOG(INFO) Added: freq=2168 size=280 all=12760 active=3889 piece=ial\n",
      "bpe_model_trainer.cc(268) LOG(INFO) Added: freq=2023 size=300 all=13456 active=4585 piece=▁most\n",
      "bpe_model_trainer.cc(159) LOG(INFO) Updating active symbols. max_freq=1997 min_freq=415\n",
      "bpe_model_trainer.cc(268) LOG(INFO) Added: freq=1862 size=320 all=14024 active=1567 piece=▁would\n",
      "bpe_model_trainer.cc(268) LOG(INFO) Added: freq=1702 size=340 all=14509 active=2052 piece=▁been\n",
      "bpe_model_trainer.cc(268) LOG(INFO) Added: freq=1555 size=360 all=15093 active=2636 piece=▁fir\n",
      "bpe_model_trainer.cc(268) LOG(INFO) Added: freq=1482 size=380 all=15790 active=3333 piece=▁ag\n",
      "bpe_model_trainer.cc(268) LOG(INFO) Added: freq=1384 size=400 all=16351 active=3894 piece=ose\n",
      "bpe_model_trainer.cc(159) LOG(INFO) Updating active symbols. max_freq=1377 min_freq=362\n",
      "bpe_model_trainer.cc(268) LOG(INFO) Added: freq=1301 size=420 all=16860 active=1488 piece=▁plot\n",
      "bpe_model_trainer.cc(268) LOG(INFO) Added: freq=1211 size=440 all=17176 active=1804 piece=ny\n",
      "bpe_model_trainer.cc(268) LOG(INFO) Added: freq=1171 size=460 all=17564 active=2192 piece=▁never\n",
      "bpe_model_trainer.cc(268) LOG(INFO) Added: freq=1129 size=480 all=18314 active=2942 piece=▁imp\n",
      "bpe_model_trainer.cc(268) LOG(INFO) Added: freq=1069 size=500 all=18763 active=3391 piece=▁big\n",
      "bpe_model_trainer.cc(159) LOG(INFO) Updating active symbols. max_freq=1067 min_freq=318\n",
      "bpe_model_trainer.cc(268) LOG(INFO) Added: freq=1013 size=520 all=19228 active=1459 piece=mo\n",
      "bpe_model_trainer.cc(268) LOG(INFO) Added: freq=982 size=540 all=19652 active=1883 piece=ertain\n",
      "bpe_model_trainer.cc(268) LOG(INFO) Added: freq=923 size=560 all=19904 active=2135 piece=▁action\n",
      "bpe_model_trainer.cc(268) LOG(INFO) Added: freq=881 size=580 all=20473 active=2704 piece=▁dra\n",
      "bpe_model_trainer.cc(268) LOG(INFO) Added: freq=847 size=600 all=20946 active=3177 piece=▁down\n",
      "bpe_model_trainer.cc(159) LOG(INFO) Updating active symbols. max_freq=843 min_freq=272\n",
      "bpe_model_trainer.cc(268) LOG(INFO) Added: freq=812 size=620 all=21281 active=1366 piece=ner\n",
      "bpe_model_trainer.cc(268) LOG(INFO) Added: freq=788 size=640 all=21742 active=1827 piece=▁cast\n",
      "bpe_model_trainer.cc(268) LOG(INFO) Added: freq=749 size=660 all=22053 active=2138 piece=▁sequ\n",
      "bpe_model_trainer.cc(268) LOG(INFO) Added: freq=730 size=680 all=22361 active=2446 piece=▁high\n",
      "bpe_model_trainer.cc(268) LOG(INFO) Added: freq=705 size=700 all=22684 active=2769 piece=▁comple\n",
      "bpe_model_trainer.cc(159) LOG(INFO) Updating active symbols. max_freq=704 min_freq=233\n",
      "bpe_model_trainer.cc(268) LOG(INFO) Added: freq=681 size=720 all=23001 active=1447 piece=▁isn\n",
      "bpe_model_trainer.cc(268) LOG(INFO) Added: freq=661 size=740 all=23186 active=1632 piece=▁start\n",
      "bpe_model_trainer.cc(268) LOG(INFO) Added: freq=638 size=760 all=23474 active=1920 piece=▁hard\n",
      "bpe_model_trainer.cc(268) LOG(INFO) Added: freq=607 size=780 all=23801 active=2247 piece=▁da\n",
      "bpe_model_trainer.cc(268) LOG(INFO) Added: freq=578 size=800 all=24271 active=2717 piece=ater\n",
      "bpe_model_trainer.cc(159) LOG(INFO) Updating active symbols. max_freq=578 min_freq=205\n",
      "bpe_model_trainer.cc(268) LOG(INFO) Added: freq=557 size=820 all=24634 active=1547 piece=00\n",
      "bpe_model_trainer.cc(268) LOG(INFO) Added: freq=539 size=840 all=24914 active=1827 piece=▁least\n",
      "bpe_model_trainer.cc(268) LOG(INFO) Added: freq=522 size=860 all=25263 active=2176 piece=▁interesting\n",
      "bpe_model_trainer.cc(268) LOG(INFO) Added: freq=509 size=880 all=25537 active=2450 piece=▁z\n",
      "bpe_model_trainer.cc(268) LOG(INFO) Added: freq=504 size=900 all=25857 active=2770 piece=▁minutes\n",
      "bpe_model_trainer.cc(159) LOG(INFO) Updating active symbols. max_freq=503 min_freq=179\n",
      "bpe_model_trainer.cc(268) LOG(INFO) Added: freq=488 size=920 all=26127 active=1563 piece=▁anything\n",
      "bpe_model_trainer.cc(268) LOG(INFO) Added: freq=477 size=940 all=26415 active=1851 piece=aut\n",
      "bpe_model_trainer.cc(268) LOG(INFO) Added: freq=464 size=960 all=26664 active=2100 piece=▁home\n",
      "bpe_model_trainer.cc(268) LOG(INFO) Added: freq=449 size=980 all=26854 active=2290 piece=▁dist\n",
      "bpe_model_trainer.cc(268) LOG(INFO) Added: freq=439 size=1000 all=27067 active=2503 piece=▁picture\n",
      "bpe_model_trainer.cc(159) LOG(INFO) Updating active symbols. max_freq=438 min_freq=160\n",
      "bpe_model_trainer.cc(268) LOG(INFO) Added: freq=424 size=1020 all=27416 active=1703 piece=leas\n",
      "bpe_model_trainer.cc(268) LOG(INFO) Added: freq=413 size=1040 all=27622 active=1909 piece=ists\n",
      "bpe_model_trainer.cc(268) LOG(INFO) Added: freq=402 size=1060 all=27867 active=2154 piece=▁boy\n",
      "bpe_model_trainer.cc(268) LOG(INFO) Added: freq=392 size=1080 all=28125 active=2412 piece=▁given\n",
      "bpe_model_trainer.cc(268) LOG(INFO) Added: freq=378 size=1100 all=28402 active=2689 piece=▁cred\n",
      "bpe_model_trainer.cc(159) LOG(INFO) Updating active symbols. max_freq=377 min_freq=144\n",
      "bpe_model_trainer.cc(268) LOG(INFO) Added: freq=373 size=1120 all=28669 active=1679 piece=▁relationship\n",
      "bpe_model_trainer.cc(268) LOG(INFO) Added: freq=363 size=1140 all=28871 active=1881 piece=ility\n",
      "bpe_model_trainer.cc(268) LOG(INFO) Added: freq=354 size=1160 all=29162 active=2172 piece=▁town\n",
      "bpe_model_trainer.cc(268) LOG(INFO) Added: freq=346 size=1180 all=29503 active=2513 piece=ular\n",
      "bpe_model_trainer.cc(268) LOG(INFO) Added: freq=340 size=1200 all=29749 active=2759 piece=��shows\n",
      "bpe_model_trainer.cc(159) LOG(INFO) Updating active symbols. max_freq=340 min_freq=129\n",
      "bpe_model_trainer.cc(268) LOG(INFO) Added: freq=333 size=1220 all=29946 active=1685 piece=▁soon\n",
      "bpe_model_trainer.cc(268) LOG(INFO) Added: freq=327 size=1240 all=30189 active=1928 piece=▁exam\n",
      "bpe_model_trainer.cc(268) LOG(INFO) Added: freq=321 size=1260 all=30514 active=2253 piece=▁tre\n",
      "bpe_model_trainer.cc(268) LOG(INFO) Added: freq=315 size=1280 all=30715 active=2454 piece=▁often\n",
      "bpe_model_trainer.cc(268) LOG(INFO) Added: freq=308 size=1300 all=30909 active=2648 piece=▁unfortunately\n",
      "bpe_model_trainer.cc(159) LOG(INFO) Updating active symbols. max_freq=307 min_freq=119\n",
      "bpe_model_trainer.cc(268) LOG(INFO) Added: freq=300 size=1320 all=31066 active=1703 piece=che\n",
      "bpe_model_trainer.cc(268) LOG(INFO) Added: freq=294 size=1340 all=31324 active=1961 piece=▁cat\n",
      "bpe_model_trainer.cc(268) LOG(INFO) Added: freq=289 size=1360 all=31482 active=2119 piece=▁able\n",
      "bpe_model_trainer.cc(268) LOG(INFO) Added: freq=282 size=1380 all=31650 active=2287 piece=▁vers\n",
      "bpe_model_trainer.cc(268) LOG(INFO) Added: freq=275 size=1400 all=31857 active=2494 piece=▁read\n",
      "bpe_model_trainer.cc(159) LOG(INFO) Updating active symbols. max_freq=275 min_freq=111\n",
      "bpe_model_trainer.cc(268) LOG(INFO) Added: freq=269 size=1420 all=32027 active=1756 piece=ax\n",
      "bpe_model_trainer.cc(268) LOG(INFO) Added: freq=265 size=1440 all=32229 active=1958 piece=▁room\n",
      "bpe_model_trainer.cc(268) LOG(INFO) Added: freq=261 size=1460 all=32442 active=2171 piece=▁camera\n",
      "bpe_model_trainer.cc(268) LOG(INFO) Added: freq=256 size=1480 all=32662 active=2391 piece=▁ep\n",
      "bpe_model_trainer.cc(268) LOG(INFO) Added: freq=251 size=1500 all=32879 active=2608 piece=▁team\n",
      "bpe_model_trainer.cc(159) LOG(INFO) Updating active symbols. max_freq=250 min_freq=103\n",
      "bpe_model_trainer.cc(268) LOG(INFO) Added: freq=247 size=1520 all=33076 active=1839 piece=ering\n",
      "bpe_model_trainer.cc(268) LOG(INFO) Added: freq=243 size=1540 all=33256 active=2019 piece=wor\n",
      "bpe_model_trainer.cc(268) LOG(INFO) Added: freq=240 size=1560 all=33375 active=2138 piece=▁beautiful\n",
      "bpe_model_trainer.cc(268) LOG(INFO) Added: freq=235 size=1580 all=33571 active=2334 piece=▁eyes\n",
      "bpe_model_trainer.cc(268) LOG(INFO) Added: freq=230 size=1600 all=33786 active=2549 piece=▁eff\n",
      "bpe_model_trainer.cc(159) LOG(INFO) Updating active symbols. max_freq=230 min_freq=96\n",
      "bpe_model_trainer.cc(268) LOG(INFO) Added: freq=226 size=1620 all=33932 active=1831 piece=ching\n",
      "bpe_model_trainer.cc(268) LOG(INFO) Added: freq=222 size=1640 all=34141 active=2040 piece=otic\n",
      "bpe_model_trainer.cc(268) LOG(INFO) Added: freq=219 size=1660 all=34339 active=2238 piece=▁contin\n",
      "bpe_model_trainer.cc(268) LOG(INFO) Added: freq=216 size=1680 all=34472 active=2371 piece=▁gri\n",
      "bpe_model_trainer.cc(268) LOG(INFO) Added: freq=212 size=1700 all=34646 active=2545 piece=rown\n",
      "bpe_model_trainer.cc(159) LOG(INFO) Updating active symbols. max_freq=212 min_freq=90\n",
      "bpe_model_trainer.cc(268) LOG(INFO) Added: freq=209 size=1720 all=34812 active=1885 piece=▁detail\n",
      "bpe_model_trainer.cc(268) LOG(INFO) Added: freq=206 size=1740 all=34945 active=2018 piece=ety\n",
      "bpe_model_trainer.cc(268) LOG(INFO) Added: freq=204 size=1760 all=35081 active=2154 piece=▁science\n",
      "bpe_model_trainer.cc(268) LOG(INFO) Added: freq=201 size=1780 all=35251 active=2324 piece=▁amaz\n",
      "bpe_model_trainer.cc(268) LOG(INFO) Added: freq=197 size=1800 all=35406 active=2479 piece=▁obs\n",
      "bpe_model_trainer.cc(159) LOG(INFO) Updating active symbols. max_freq=197 min_freq=85\n",
      "bpe_model_trainer.cc(268) LOG(INFO) Added: freq=194 size=1820 all=35526 active=1888 piece=▁fra\n",
      "bpe_model_trainer.cc(268) LOG(INFO) Added: freq=191 size=1840 all=35578 active=1940 piece=na\n",
      "bpe_model_trainer.cc(268) LOG(INFO) Added: freq=188 size=1860 all=35771 active=2133 piece=erg\n",
      "bpe_model_trainer.cc(268) LOG(INFO) Added: freq=185 size=1880 all=35937 active=2299 piece=tra\n",
      "bpe_model_trainer.cc(268) LOG(INFO) Added: freq=183 size=1900 all=36086 active=2448 piece=usion\n",
      "bpe_model_trainer.cc(159) LOG(INFO) Updating active symbols. max_freq=183 min_freq=80\n",
      "bpe_model_trainer.cc(268) LOG(INFO) Added: freq=181 size=1920 all=36285 active=1990 piece=▁fast\n",
      "bpe_model_trainer.cc(268) LOG(INFO) Added: freq=179 size=1940 all=36425 active=2130 piece=▁piece\n",
      "bpe_model_trainer.cc(268) LOG(INFO) Added: freq=176 size=1960 all=36494 active=2199 piece=old\n",
      "bpe_model_trainer.cc(268) LOG(INFO) Added: freq=174 size=1980 all=36629 active=2334 piece=▁chance\n",
      "bpe_model_trainer.cc(268) LOG(INFO) Added: freq=173 size=2000 all=36661 active=2366 piece=▁girlfriend\n",
      "bpe_model_trainer.cc(159) LOG(INFO) Updating active symbols. max_freq=172 min_freq=76\n",
      "bpe_model_trainer.cc(268) LOG(INFO) Added: freq=170 size=2020 all=36811 active=1983 piece=▁released\n",
      "bpe_model_trainer.cc(268) LOG(INFO) Added: freq=167 size=2040 all=36959 active=2131 piece=▁recent\n",
      "bpe_model_trainer.cc(268) LOG(INFO) Added: freq=164 size=2060 all=37025 active=2197 piece=▁wars\n",
      "bpe_model_trainer.cc(268) LOG(INFO) Added: freq=162 size=2080 all=37204 active=2376 piece=▁america\n",
      "bpe_model_trainer.cc(268) LOG(INFO) Added: freq=160 size=2100 all=37326 active=2498 piece=▁brothers\n",
      "bpe_model_trainer.cc(159) LOG(INFO) Updating active symbols. max_freq=160 min_freq=73\n",
      "bpe_model_trainer.cc(268) LOG(INFO) Added: freq=158 size=2120 all=37512 active=2053 piece=▁anyway\n",
      "bpe_model_trainer.cc(268) LOG(INFO) Added: freq=156 size=2140 all=37689 active=2230 piece=▁destro\n",
      "bpe_model_trainer.cc(268) LOG(INFO) Added: freq=154 size=2160 all=37798 active=2339 piece=▁myself\n",
      "bpe_model_trainer.cc(268) LOG(INFO) Added: freq=151 size=2180 all=37854 active=2395 piece=att\n",
      "bpe_model_trainer.cc(268) LOG(INFO) Added: freq=150 size=2200 all=38005 active=2546 piece=▁lab\n",
      "bpe_model_trainer.cc(159) LOG(INFO) Updating active symbols. max_freq=150 min_freq=69\n",
      "bpe_model_trainer.cc(268) LOG(INFO) Added: freq=148 size=2220 all=38157 active=2042 piece=ians\n",
      "bpe_model_trainer.cc(268) LOG(INFO) Added: freq=146 size=2240 all=38410 active=2295 piece=cher\n",
      "bpe_model_trainer.cc(268) LOG(INFO) Added: freq=145 size=2260 all=38554 active=2439 piece=▁age\n",
      "bpe_model_trainer.cc(268) LOG(INFO) Added: freq=143 size=2280 all=38695 active=2580 piece=▁wait\n",
      "bpe_model_trainer.cc(268) LOG(INFO) Added: freq=141 size=2300 all=38808 active=2693 piece=ards\n",
      "bpe_model_trainer.cc(159) LOG(INFO) Updating active symbols. max_freq=141 min_freq=65\n",
      "bpe_model_trainer.cc(268) LOG(INFO) Added: freq=139 size=2320 all=38896 active=2008 piece=▁liter\n",
      "bpe_model_trainer.cc(268) LOG(INFO) Added: freq=137 size=2340 all=39009 active=2121 piece=▁truman\n",
      "bpe_model_trainer.cc(268) LOG(INFO) Added: freq=135 size=2360 all=39141 active=2253 piece=▁cir\n",
      "bpe_model_trainer.cc(268) LOG(INFO) Added: freq=134 size=2380 all=39200 active=2312 piece=▁message\n",
      "bpe_model_trainer.cc(268) LOG(INFO) Added: freq=132 size=2400 all=39309 active=2421 piece=▁haven\n",
      "bpe_model_trainer.cc(159) LOG(INFO) Updating active symbols. max_freq=132 min_freq=63\n",
      "bpe_model_trainer.cc(268) LOG(INFO) Added: freq=130 size=2420 all=39349 active=2006 piece=▁rad\n",
      "bpe_model_trainer.cc(268) LOG(INFO) Added: freq=129 size=2440 all=39448 active=2105 piece=▁happened\n",
      "bpe_model_trainer.cc(268) LOG(INFO) Added: freq=127 size=2460 all=39574 active=2231 piece=ask\n",
      "bpe_model_trainer.cc(268) LOG(INFO) Added: freq=126 size=2480 all=39700 active=2357 piece=▁brit\n",
      "bpe_model_trainer.cc(268) LOG(INFO) Added: freq=124 size=2500 all=39844 active=2501 piece=rage\n",
      "bpe_model_trainer.cc(159) LOG(INFO) Updating active symbols. max_freq=124 min_freq=60\n",
      "bpe_model_trainer.cc(268) LOG(INFO) Added: freq=123 size=2520 all=40020 active=2162 piece=▁clos\n",
      "bpe_model_trainer.cc(268) LOG(INFO) Added: freq=122 size=2540 all=40136 active=2278 piece=▁affect\n",
      "bpe_model_trainer.cc(268) LOG(INFO) Added: freq=120 size=2560 all=40204 active=2346 piece=rel\n",
      "bpe_model_trainer.cc(268) LOG(INFO) Added: freq=119 size=2580 all=40407 active=2549 piece=▁wes\n",
      "bpe_model_trainer.cc(268) LOG(INFO) Added: freq=117 size=2600 all=40493 active=2635 piece=ush\n",
      "bpe_model_trainer.cc(159) LOG(INFO) Updating active symbols. max_freq=117 min_freq=57\n",
      "bpe_model_trainer.cc(268) LOG(INFO) Added: freq=116 size=2620 all=40702 active=2210 piece=track\n",
      "bpe_model_trainer.cc(268) LOG(INFO) Added: freq=115 size=2640 all=40782 active=2290 piece=▁spect\n",
      "bpe_model_trainer.cc(268) LOG(INFO) Added: freq=114 size=2660 all=40928 active=2436 piece=▁disturb\n",
      "bpe_model_trainer.cc(268) LOG(INFO) Added: freq=113 size=2680 all=41113 active=2621 piece=▁cond\n",
      "bpe_model_trainer.cc(268) LOG(INFO) Added: freq=112 size=2700 all=41214 active=2722 piece=▁news\n",
      "bpe_model_trainer.cc(159) LOG(INFO) Updating active symbols. max_freq=112 min_freq=54\n",
      "bpe_model_trainer.cc(268) LOG(INFO) Added: freq=111 size=2720 all=41382 active=2222 piece=▁shar\n",
      "bpe_model_trainer.cc(268) LOG(INFO) Added: freq=110 size=2740 all=41490 active=2330 piece=▁depth\n",
      "bpe_model_trainer.cc(268) LOG(INFO) Added: freq=109 size=2760 all=41536 active=2376 piece=▁president\n",
      "bpe_model_trainer.cc(268) LOG(INFO) Added: freq=107 size=2780 all=41630 active=2470 piece=sey\n",
      "bpe_model_trainer.cc(268) LOG(INFO) Added: freq=106 size=2800 all=41748 active=2588 piece=▁basic\n",
      "bpe_model_trainer.cc(159) LOG(INFO) Updating active symbols. max_freq=106 min_freq=52\n",
      "bpe_model_trainer.cc(268) LOG(INFO) Added: freq=105 size=2820 all=41834 active=2174 piece=▁hill\n",
      "bpe_model_trainer.cc(268) LOG(INFO) Added: freq=104 size=2840 all=41958 active=2298 piece=stem\n",
      "bpe_model_trainer.cc(268) LOG(INFO) Added: freq=103 size=2860 all=42048 active=2388 piece=▁kidn\n",
      "bpe_model_trainer.cc(268) LOG(INFO) Added: freq=102 size=2880 all=42154 active=2494 piece=▁nic\n",
      "bpe_model_trainer.cc(268) LOG(INFO) Added: freq=102 size=2900 all=42191 active=2531 piece=▁development\n",
      "bpe_model_trainer.cc(159) LOG(INFO) Updating active symbols. max_freq=102 min_freq=50\n",
      "bpe_model_trainer.cc(268) LOG(INFO) Added: freq=101 size=2920 all=42297 active=2216 piece=▁doctor\n",
      "bpe_model_trainer.cc(268) LOG(INFO) Added: freq=99 size=2940 all=42385 active=2304 piece=hand\n",
      "bpe_model_trainer.cc(268) LOG(INFO) Added: freq=99 size=2960 all=42499 active=2418 piece=▁cartoon\n",
      "bpe_model_trainer.cc(268) LOG(INFO) Added: freq=98 size=2980 all=42588 active=2507 piece=▁stands\n",
      "bpe_model_trainer.cc(268) LOG(INFO) Added: freq=97 size=3000 all=42659 active=2578 piece=▁missing\n",
      "bpe_model_trainer.cc(159) LOG(INFO) Updating active symbols. max_freq=97 min_freq=48\n",
      "bpe_model_trainer.cc(268) LOG(INFO) Added: freq=96 size=3020 all=42731 active=2205 piece=▁double\n",
      "bpe_model_trainer.cc(268) LOG(INFO) Added: freq=95 size=3040 all=42768 active=2242 piece=mat\n",
      "bpe_model_trainer.cc(268) LOG(INFO) Added: freq=95 size=3060 all=42903 active=2377 piece=▁seemingly\n",
      "bpe_model_trainer.cc(268) LOG(INFO) Added: freq=93 size=3080 all=43027 active=2501 piece=hood\n",
      "bpe_model_trainer.cc(268) LOG(INFO) Added: freq=92 size=3100 all=43107 active=2581 piece=▁dad\n",
      "bpe_model_trainer.cc(159) LOG(INFO) Updating active symbols. max_freq=92 min_freq=47\n",
      "bpe_model_trainer.cc(268) LOG(INFO) Added: freq=92 size=3120 all=43168 active=2215 piece=▁conflict\n",
      "bpe_model_trainer.cc(268) LOG(INFO) Added: freq=91 size=3140 all=43267 active=2314 piece=▁victim\n",
      "bpe_model_trainer.cc(268) LOG(INFO) Added: freq=90 size=3160 all=43380 active=2427 piece=▁nights\n",
      "bpe_model_trainer.cc(268) LOG(INFO) Added: freq=89 size=3180 all=43448 active=2495 piece=▁fresh\n",
      "bpe_model_trainer.cc(268) LOG(INFO) Added: freq=88 size=3200 all=43507 active=2554 piece=piece\n",
      "bpe_model_trainer.cc(159) LOG(INFO) Updating active symbols. max_freq=88 min_freq=45\n",
      "bpe_model_trainer.cc(268) LOG(INFO) Added: freq=87 size=3220 all=43562 active=2225 piece=ipul\n",
      "bpe_model_trainer.cc(268) LOG(INFO) Added: freq=87 size=3240 all=43635 active=2298 piece=▁famous\n",
      "bpe_model_trainer.cc(268) LOG(INFO) Added: freq=86 size=3260 all=43704 active=2367 piece=▁brown\n",
      "bpe_model_trainer.cc(268) LOG(INFO) Added: freq=85 size=3280 all=43839 active=2502 piece=▁alex\n",
      "bpe_model_trainer.cc(268) LOG(INFO) Added: freq=85 size=3300 all=43864 active=2527 piece=▁describ\n",
      "bpe_model_trainer.cc(159) LOG(INFO) Updating active symbols. max_freq=85 min_freq=44\n",
      "bpe_model_trainer.cc(268) LOG(INFO) Added: freq=84 size=3320 all=43975 active=2302 piece=▁hanks\n",
      "bpe_model_trainer.cc(268) LOG(INFO) Added: freq=83 size=3340 all=44016 active=2343 piece=▁dir\n",
      "bpe_model_trainer.cc(268) LOG(INFO) Added: freq=82 size=3360 all=44071 active=2398 piece=anda\n",
      "bpe_model_trainer.cc(268) LOG(INFO) Added: freq=82 size=3380 all=44151 active=2478 piece=▁portra\n",
      "bpe_model_trainer.cc(268) LOG(INFO) Added: freq=81 size=3400 all=44256 active=2583 piece=▁offer\n",
      "bpe_model_trainer.cc(159) LOG(INFO) Updating active symbols. max_freq=81 min_freq=42\n",
      "bpe_model_trainer.cc(268) LOG(INFO) Added: freq=80 size=3420 all=44319 active=2275 piece=▁pil\n",
      "bpe_model_trainer.cc(268) LOG(INFO) Added: freq=80 size=3440 all=44367 active=2323 piece=▁reach\n",
      "bpe_model_trainer.cc(268) LOG(INFO) Added: freq=79 size=3460 all=44450 active=2406 piece=althy\n",
      "bpe_model_trainer.cc(268) LOG(INFO) Added: freq=79 size=3480 all=44503 active=2459 piece=▁anderson\n",
      "bpe_model_trainer.cc(268) LOG(INFO) Added: freq=78 size=3500 all=44623 active=2579 piece=▁jedi\n",
      "bpe_model_trainer.cc(159) LOG(INFO) Updating active symbols. max_freq=78 min_freq=41\n",
      "bpe_model_trainer.cc(268) LOG(INFO) Added: freq=77 size=3520 all=44668 active=2277 piece=eper\n",
      "bpe_model_trainer.cc(268) LOG(INFO) Added: freq=77 size=3540 all=44715 active=2324 piece=▁fantasy\n",
      "bpe_model_trainer.cc(268) LOG(INFO) Added: freq=76 size=3560 all=44811 active=2420 piece=▁jr\n",
      "bpe_model_trainer.cc(268) LOG(INFO) Added: freq=76 size=3580 all=44869 active=2478 piece=▁termin\n",
      "bpe_model_trainer.cc(268) LOG(INFO) Added: freq=75 size=3600 all=44996 active=2605 piece=▁card\n",
      "bpe_model_trainer.cc(159) LOG(INFO) Updating active symbols. max_freq=75 min_freq=40\n",
      "bpe_model_trainer.cc(268) LOG(INFO) Added: freq=75 size=3620 all=45016 active=2266 piece=▁thomas\n",
      "bpe_model_trainer.cc(268) LOG(INFO) Added: freq=74 size=3640 all=45117 active=2367 piece=▁joan\n",
      "bpe_model_trainer.cc(268) LOG(INFO) Added: freq=74 size=3660 all=45144 active=2394 piece=▁forever\n",
      "bpe_model_trainer.cc(268) LOG(INFO) Added: freq=73 size=3680 all=45176 active=2426 piece=▁lie\n",
      "bpe_model_trainer.cc(268) LOG(INFO) Added: freq=73 size=3700 all=45213 active=2463 piece=▁haunting\n",
      "bpe_model_trainer.cc(159) LOG(INFO) Updating active symbols. max_freq=73 min_freq=39\n",
      "bpe_model_trainer.cc(268) LOG(INFO) Added: freq=72 size=3720 all=45336 active=2383 piece=▁kept\n",
      "bpe_model_trainer.cc(268) LOG(INFO) Added: freq=72 size=3740 all=45362 active=2409 piece=▁pathetic\n",
      "bpe_model_trainer.cc(268) LOG(INFO) Added: freq=71 size=3760 all=45509 active=2556 piece=▁pan\n",
      "bpe_model_trainer.cc(268) LOG(INFO) Added: freq=71 size=3780 all=45567 active=2614 piece=▁suppose\n",
      "bpe_model_trainer.cc(268) LOG(INFO) Added: freq=70 size=3800 all=45660 active=2707 piece=▁penn\n",
      "bpe_model_trainer.cc(159) LOG(INFO) Updating active symbols. max_freq=70 min_freq=37\n",
      "bpe_model_trainer.cc(268) LOG(INFO) Added: freq=70 size=3820 all=45702 active=2322 piece=▁feelings\n",
      "bpe_model_trainer.cc(268) LOG(INFO) Added: freq=69 size=3840 all=45784 active=2404 piece=▁added\n",
      "bpe_model_trainer.cc(268) LOG(INFO) Added: freq=68 size=3860 all=45818 active=2438 piece=ogy\n",
      "bpe_model_trainer.cc(268) LOG(INFO) Added: freq=68 size=3880 all=45913 active=2533 piece=▁explan\n",
      "bpe_model_trainer.cc(268) LOG(INFO) Added: freq=67 size=3900 all=45942 active=2562 piece=▁und\n",
      "bpe_model_trainer.cc(159) LOG(INFO) Updating active symbols. max_freq=67 min_freq=36\n",
      "bpe_model_trainer.cc(268) LOG(INFO) Added: freq=67 size=3920 all=46015 active=2355 piece=▁themes\n",
      "bpe_model_trainer.cc(268) LOG(INFO) Added: freq=66 size=3940 all=46109 active=2449 piece=▁sed\n",
      "bpe_model_trainer.cc(268) LOG(INFO) Added: freq=66 size=3960 all=46144 active=2484 piece=▁histor\n",
      "bpe_model_trainer.cc(268) LOG(INFO) Added: freq=65 size=3980 all=46154 active=2494 piece=hal\n",
      "bpe_model_trainer.cc(268) LOG(INFO) Added: freq=65 size=4000 all=46243 active=2583 piece=▁skill\n",
      "bpe_model_trainer.cc(159) LOG(INFO) Updating active symbols. max_freq=65 min_freq=35\n",
      "bpe_model_trainer.cc(268) LOG(INFO) Added: freq=64 size=4020 all=46258 active=2325 piece=azy\n",
      "bpe_model_trainer.cc(268) LOG(INFO) Added: freq=64 size=4040 all=46388 active=2455 piece=▁fare\n",
      "bpe_model_trainer.cc(268) LOG(INFO) Added: freq=64 size=4060 all=46408 active=2475 piece=▁douglas\n",
      "bpe_model_trainer.cc(268) LOG(INFO) Added: freq=63 size=4080 all=46444 active=2511 piece=tering\n",
      "bpe_model_trainer.cc(268) LOG(INFO) Added: freq=63 size=4100 all=46476 active=2543 piece=▁managed\n",
      "bpe_model_trainer.cc(159) LOG(INFO) Updating active symbols. max_freq=63 min_freq=34\n",
      "bpe_model_trainer.cc(268) LOG(INFO) Added: freq=62 size=4120 all=46560 active=2408 piece=uts\n",
      "bpe_model_trainer.cc(268) LOG(INFO) Added: freq=62 size=4140 all=46647 active=2495 piece=▁sarah\n",
      "bpe_model_trainer.cc(268) LOG(INFO) Added: freq=61 size=4160 all=46711 active=2559 piece=▁ade\n",
      "bpe_model_trainer.cc(268) LOG(INFO) Added: freq=61 size=4180 all=46771 active=2619 piece=▁sidney\n",
      "bpe_model_trainer.cc(268) LOG(INFO) Added: freq=60 size=4200 all=46841 active=2689 piece=▁sty\n",
      "bpe_model_trainer.cc(159) LOG(INFO) Updating active symbols. max_freq=60 min_freq=33\n",
      "bpe_model_trainer.cc(268) LOG(INFO) Added: freq=60 size=4220 all=46889 active=2386 piece=itation\n",
      "bpe_model_trainer.cc(268) LOG(INFO) Added: freq=59 size=4240 all=46977 active=2474 piece=▁fer\n",
      "bpe_model_trainer.cc(268) LOG(INFO) Added: freq=59 size=4260 all=47053 active=2550 piece=▁bigger\n",
      "bpe_model_trainer.cc(268) LOG(INFO) Added: freq=59 size=4280 all=47053 active=2550 piece=▁originally\n",
      "bpe_model_trainer.cc(268) LOG(INFO) Added: freq=58 size=4300 all=47167 active=2664 piece=▁sac\n",
      "bpe_model_trainer.cc(159) LOG(INFO) Updating active symbols. max_freq=58 min_freq=32\n",
      "bpe_model_trainer.cc(268) LOG(INFO) Added: freq=58 size=4320 all=47230 active=2417 piece=▁guilty\n",
      "bpe_model_trainer.cc(268) LOG(INFO) Added: freq=57 size=4340 all=47241 active=2428 piece=▁od\n",
      "bpe_model_trainer.cc(268) LOG(INFO) Added: freq=57 size=4360 all=47334 active=2521 piece=▁range\n",
      "bpe_model_trainer.cc(268) LOG(INFO) Added: freq=57 size=4380 all=47350 active=2537 piece=▁outrage\n",
      "bpe_model_trainer.cc(268) LOG(INFO) Added: freq=56 size=4400 all=47425 active=2612 piece=▁jol\n",
      "bpe_model_trainer.cc(159) LOG(INFO) Updating active symbols. max_freq=56 min_freq=32\n",
      "bpe_model_trainer.cc(268) LOG(INFO) Added: freq=56 size=4420 all=47494 active=2436 piece=▁ended\n",
      "bpe_model_trainer.cc(268) LOG(INFO) Added: freq=56 size=4440 all=47494 active=2436 piece=▁standing\n",
      "bpe_model_trainer.cc(268) LOG(INFO) Added: freq=55 size=4460 all=47565 active=2507 piece=▁rum\n",
      "bpe_model_trainer.cc(268) LOG(INFO) Added: freq=55 size=4480 all=47615 active=2557 piece=rection\n",
      "bpe_model_trainer.cc(268) LOG(INFO) Added: freq=55 size=4500 all=47622 active=2564 piece=▁laughable\n",
      "bpe_model_trainer.cc(159) LOG(INFO) Updating active symbols. max_freq=55 min_freq=31\n",
      "bpe_model_trainer.cc(268) LOG(INFO) Added: freq=54 size=4520 all=47673 active=2433 piece=▁chore\n",
      "bpe_model_trainer.cc(268) LOG(INFO) Added: freq=54 size=4540 all=47693 active=2453 piece=▁besides\n",
      "bpe_model_trainer.cc(268) LOG(INFO) Added: freq=53 size=4560 all=47689 active=2449 piece=eer\n",
      "bpe_model_trainer.cc(268) LOG(INFO) Added: freq=53 size=4580 all=47811 active=2571 piece=▁meat\n",
      "bpe_model_trainer.cc(268) LOG(INFO) Added: freq=53 size=4600 all=47859 active=2619 piece=▁spring\n",
      "bpe_model_trainer.cc(159) LOG(INFO) Updating active symbols. max_freq=53 min_freq=30\n",
      "bpe_model_trainer.cc(268) LOG(INFO) Added: freq=52 size=4620 all=47912 active=2442 piece=gia\n",
      "bpe_model_trainer.cc(268) LOG(INFO) Added: freq=52 size=4640 all=48012 active=2542 piece=▁ugly\n",
      "bpe_model_trainer.cc(268) LOG(INFO) Added: freq=52 size=4660 all=48021 active=2551 piece=▁increas\n",
      "bpe_model_trainer.cc(268) LOG(INFO) Added: freq=51 size=4680 all=48017 active=2547 piece=des\n",
      "bpe_model_trainer.cc(268) LOG(INFO) Added: freq=51 size=4700 all=48071 active=2601 piece=▁paris\n",
      "bpe_model_trainer.cc(159) LOG(INFO) Updating active symbols. max_freq=51 min_freq=29\n",
      "bpe_model_trainer.cc(268) LOG(INFO) Added: freq=51 size=4720 all=48080 active=2411 piece=▁expression\n",
      "bpe_model_trainer.cc(268) LOG(INFO) Added: freq=50 size=4740 all=48170 active=2501 piece=bling\n",
      "bpe_model_trainer.cc(268) LOG(INFO) Added: freq=50 size=4760 all=48273 active=2604 piece=▁blues\n",
      "bpe_model_trainer.cc(268) LOG(INFO) Added: freq=50 size=4780 all=48284 active=2615 piece=▁correct\n",
      "bpe_model_trainer.cc(268) LOG(INFO) Added: freq=49 size=4800 all=48298 active=2629 piece=ini\n",
      "bpe_model_trainer.cc(159) LOG(INFO) Updating active symbols. max_freq=49 min_freq=29\n",
      "bpe_model_trainer.cc(268) LOG(INFO) Added: freq=49 size=4820 all=48423 active=2527 piece=▁kean\n",
      "bpe_model_trainer.cc(268) LOG(INFO) Added: freq=49 size=4840 all=48448 active=2552 piece=theless\n",
      "bpe_model_trainer.cc(268) LOG(INFO) Added: freq=49 size=4860 all=48444 active=2548 piece=▁accompan\n",
      "bpe_model_trainer.cc(268) LOG(INFO) Added: freq=48 size=4880 all=48500 active=2604 piece=ila\n",
      "bpe_model_trainer.cc(268) LOG(INFO) Added: freq=48 size=4900 all=48588 active=2692 piece=▁choo\n",
      "bpe_model_trainer.cc(159) LOG(INFO) Updating active symbols. max_freq=48 min_freq=28\n",
      "bpe_model_trainer.cc(268) LOG(INFO) Added: freq=48 size=4920 all=48612 active=2451 piece=▁besson\n",
      "bpe_model_trainer.cc(268) LOG(INFO) Added: freq=48 size=4940 all=48612 active=2451 piece=▁photography\n",
      "trainer_interface.cc(687) LOG(INFO) Saving model: bpe.model\n",
      "trainer_interface.cc(699) LOG(INFO) Saving vocabs: bpe.vocab\n"
     ]
    }
   ],
   "source": [
    "# TODO: Implement the tokenization functions\n",
    "\n",
    "# Word-Level Tokenization\n",
    "def tokenize_word_level(text):\n",
    "  # Your code here\n",
    "  return tokens\n",
    "\n",
    "# Character-Level Tokenization\n",
    "def tokenize_char_level(text):\n",
    "  # Your code here\n",
    "  return tokens\n",
    "\n",
    "# Subword-Level Tokenization (BPE)\n",
    "# First, train a BPE tokenizer on the training data\n",
    "import sentencepiece as spm\n",
    "\n",
    "# Save training reviews to a file\n",
    "with open('bpe_train.txt', 'w', encoding='utf-8') as f:\n",
    "    for line in X_train:\n",
    "        f.write(line + '\\n')\n",
    "\n",
    "# Train BPE model\n",
    "# Your code here - play with hyperparams\n",
    "spm.SentencePieceTrainer.train(input='bpe_train.txt', model_prefix='bpe', vocab_size=5000, model_type='bpe')\n",
    "\n",
    "# Load the trained model\n",
    "sp = spm.SentencePieceProcessor()\n",
    "sp.load('bpe.model')\n",
    "\n",
    "def tokenize_bpe(text):\n",
    "    tokens = sp.encode(text, out_type=str)\n",
    "    return tokens"
   ]
  },
  {
   "cell_type": "markdown",
   "metadata": {
    "id": "B4P3-phm-x2s"
   },
   "source": [
    "## Step 5: Vectorization and Model Training\n",
    "\n",
    "*Here, we'll create a function to vectorize the data and train the model.*\n",
    "\n",
    "### Task: Complete the `vectorize_and_train` Function\n",
    "\n",
    "- Adjust the function to print the number of features (vocabulary size).\n",
    "- Ensure it works correctly with different tokenizers."
   ]
  },
  {
   "cell_type": "code",
   "execution_count": 26,
   "metadata": {
    "executionInfo": {
     "elapsed": 2,
     "status": "ok",
     "timestamp": 1731190567267,
     "user": {
      "displayName": "Karin Brisker",
      "userId": "08156157394438214482"
     },
     "user_tz": -120
    },
    "id": "R0O4phSn-0Zr"
   },
   "outputs": [],
   "source": [
    "def vectorize_and_train(X_train, X_test, y_train, y_test, tokenizer, tokenizer_name):\n",
    "    # Tokenize the text\n",
    "    if tokenizer_name == 'Character-Level':\n",
    "        # For character-level tokenization, use analyzer='char'\n",
    "        vectorizer = CountVectorizer(analyzer='char')\n",
    "        X_train_vec = vectorizer.fit_transform(X_train)\n",
    "        X_test_vec = vectorizer.transform(X_test)\n",
    "    else:\n",
    "        # For other tokenizers\n",
    "        X_train_tokens = [' '.join(tokenizer(text.lower())) for text in X_train]\n",
    "        X_test_tokens = [' '.join(tokenizer(text.lower())) for text in X_test]\n",
    "\n",
    "        vectorizer = CountVectorizer()\n",
    "        X_train_vec = vectorizer.fit_transform(X_train_tokens)\n",
    "        X_test_vec = vectorizer.transform(X_test_tokens)\n",
    "\n",
    "    # Print vocabulary size\n",
    "    print(f\"Vocabulary size using {tokenizer_name}: {len(vectorizer.get_feature_names_out())}\")\n",
    "\n",
    "    # Train MultinomialNB classifier\n",
    "    model = MultinomialNB()\n",
    "    model.fit(X_train_vec, y_train)\n",
    "    y_pred = model.predict(X_test_vec)\n",
    "\n",
    "    # Evaluate the model\n",
    "    accuracy = accuracy_score(y_test, y_pred)\n",
    "    f1 = f1_score(y_test, y_pred)\n",
    "\n",
    "    print(f\"Results using {tokenizer_name} Tokenization:\")\n",
    "    print(f\"Accuracy: {accuracy:.4f}\")\n",
    "    print(f\"F1 Score: {f1:.4f}\")\n",
    "    print(classification_report(y_test, y_pred))\n",
    "    print(\"-\" * 50)\n",
    "\n",
    "    return accuracy, f1"
   ]
  },
  {
   "cell_type": "markdown",
   "metadata": {
    "id": "xBAWexQg9EG1"
   },
   "source": [
    "## Step 6: Run Experiments with Different Tokenizers\n",
    "\n",
    "*Now, we'll run the experiments with the different tokenizers and collect the results.*"
   ]
  },
  {
   "cell_type": "code",
   "execution_count": 27,
   "metadata": {
    "colab": {
     "base_uri": "https://localhost:8080/"
    },
    "executionInfo": {
     "elapsed": 23027,
     "status": "ok",
     "timestamp": 1731190590293,
     "user": {
      "displayName": "Karin Brisker",
      "userId": "08156157394438214482"
     },
     "user_tz": -120
    },
    "id": "JkqtxKdg-5Vm",
    "outputId": "748592b2-1930-4e64-f856-9004ebf01095"
   },
   "outputs": [
    {
     "name": "stdout",
     "output_type": "stream",
     "text": [
      "Vocabulary size using Word-Level: 36242\n",
      "Results using Word-Level Tokenization:\n",
      "Accuracy: 0.8100\n",
      "F1 Score: 0.8031\n",
      "              precision    recall  f1-score   support\n",
      "\n",
      "           0       0.79      0.85      0.82       199\n",
      "           1       0.84      0.77      0.80       201\n",
      "\n",
      "    accuracy                           0.81       400\n",
      "   macro avg       0.81      0.81      0.81       400\n",
      "weighted avg       0.81      0.81      0.81       400\n",
      "\n",
      "--------------------------------------------------\n",
      "Vocabulary size using Character-Level: 71\n",
      "Results using Character-Level Tokenization:\n",
      "Accuracy: 0.6450\n",
      "F1 Score: 0.6651\n",
      "              precision    recall  f1-score   support\n",
      "\n",
      "           0       0.66      0.59      0.62       199\n",
      "           1       0.63      0.70      0.67       201\n",
      "\n",
      "    accuracy                           0.65       400\n",
      "   macro avg       0.65      0.64      0.64       400\n",
      "weighted avg       0.65      0.65      0.64       400\n",
      "\n",
      "--------------------------------------------------\n",
      "Vocabulary size using BPE: 4437\n",
      "Results using BPE Tokenization:\n",
      "Accuracy: 0.7700\n",
      "F1 Score: 0.7688\n",
      "              precision    recall  f1-score   support\n",
      "\n",
      "           0       0.76      0.78      0.77       199\n",
      "           1       0.78      0.76      0.77       201\n",
      "\n",
      "    accuracy                           0.77       400\n",
      "   macro avg       0.77      0.77      0.77       400\n",
      "weighted avg       0.77      0.77      0.77       400\n",
      "\n",
      "--------------------------------------------------\n"
     ]
    }
   ],
   "source": [
    "# Dictionary to store results\n",
    "results = {}\n",
    "\n",
    "# Word-Level Tokenization\n",
    "accuracy_word, f1_word = vectorize_and_train(X_train, X_test, y_train, y_test, tokenize_word_level, 'Word-Level')\n",
    "results['Word-Level'] = {'Accuracy': accuracy_word, 'F1 Score': f1_word}\n",
    "\n",
    "# Character-Level Tokenization\n",
    "accuracy_char, f1_char = vectorize_and_train(X_train, X_test, y_train, y_test, None, 'Character-Level')\n",
    "results['Character-Level'] = {'Accuracy': accuracy_char, 'F1 Score': f1_char}\n",
    "\n",
    "# BPE Tokenization\n",
    "accuracy_bpe, f1_bpe = vectorize_and_train(X_train, X_test, y_train, y_test, tokenize_bpe, 'BPE')\n",
    "results['BPE'] = {'Accuracy': accuracy_bpe, 'F1 Score': f1_bpe}"
   ]
  },
  {
   "cell_type": "markdown",
   "metadata": {
    "id": "xPu_UQOw-8ZS"
   },
   "source": [
    "## Step 7: Analyze and Discuss the Results\n",
    "\n",
    "*We'll gather the results into a DataFrame and display a graph.*"
   ]
  },
  {
   "cell_type": "code",
   "execution_count": 28,
   "metadata": {
    "colab": {
     "base_uri": "https://localhost:8080/",
     "height": 649
    },
    "executionInfo": {
     "elapsed": 5,
     "status": "ok",
     "timestamp": 1731190590293,
     "user": {
      "displayName": "Karin Brisker",
      "userId": "08156157394438214482"
     },
     "user_tz": -120
    },
    "id": "IG-P43OV_yjj",
    "outputId": "adf4ec05-c58a-47ef-8e63-6848a7067129"
   },
   "outputs": [
    {
     "name": "stdout",
     "output_type": "stream",
     "text": [
      "\n",
      "Summary of results:\n",
      "                 Accuracy  F1 Score\n",
      "Word-Level          0.810  0.803109\n",
      "Character-Level     0.645  0.665094\n",
      "BPE                 0.770  0.768844\n"
     ]
    },
    {
     "data": {
      "image/png": "[encoded data removed]",
      "text/plain": [
       "<Figure size 800x600 with 1 Axes>"
      ]
     },
     "metadata": {},
     "output_type": "display_data"
    }
   ],
   "source": [
    "# Create a DataFrame from the results\n",
    "results_df = pd.DataFrame(results).T\n",
    "print(\"\\nSummary of results:\")\n",
    "print(results_df)\n",
    "\n",
    "# Display the results in a bar chart\n",
    "results_df.plot(kind='bar', ylim=(0,1), figsize=(8,6))\n",
    "plt.title('Model Performance with Different Tokenization Methods')\n",
    "plt.ylabel('Score')\n",
    "plt.xticks(rotation=0)\n",
    "plt.legend(loc='lower right')\n",
    "plt.show()"
   ]
  },
  {
   "cell_type": "markdown",
   "metadata": {
    "id": "N5TIPijJ_JBM"
   },
   "source": [
    "## Step 8: Additional Analysis\n",
    "\n",
    "*We'll display the number of tokens each tokenizer produces on a sample text.*\n",
    "\n",
    "### Task: Analyze the Token Counts\n",
    "\n",
    "- Select a sample text from `X_train`.\n",
    "- Use each tokenizer to tokenize the sample text.\n",
    "- Print the number of tokens produced by each tokenizer."
   ]
  },
  {
   "cell_type": "code",
   "execution_count": 29,
   "metadata": {
    "colab": {
     "base_uri": "https://localhost:8080/"
    },
    "executionInfo": {
     "elapsed": 260,
     "status": "ok",
     "timestamp": 1731190590550,
     "user": {
      "displayName": "Karin Brisker",
      "userId": "08156157394438214482"
     },
     "user_tz": -120
    },
    "id": "rwqRugLl_LWM",
    "outputId": "65d53e5a-7274-469e-e493-d9d33776cd63"
   },
   "outputs": [
    {
     "name": "stdout",
     "output_type": "stream",
     "text": [
      "Number of tokens in the sample text:\n",
      "Word-Level Tokenization: 952 tokens\n",
      "Character-Level Tokenization: 5083 tokens\n",
      "BPE Tokenization: 1316 tokens\n"
     ]
    }
   ],
   "source": [
    "# Select a sample text\n",
    "sample_text = X_train.iloc[0]\n",
    "\n",
    "# Tokenize with different tokenizers\n",
    "tokens_word = tokenize_word_level(sample_text)\n",
    "tokens_char = tokenize_char_level(sample_text)\n",
    "tokens_bpe = tokenize_bpe(sample_text)\n",
    "\n",
    "# Print the number of tokens\n",
    "print(\"Number of tokens in the sample text:\")\n",
    "print(f\"Word-Level Tokenization: {len(tokens_word)} tokens\")\n",
    "print(f\"Character-Level Tokenization: {len(tokens_char)} tokens\")\n",
    "print(f\"BPE Tokenization: {len(tokens_bpe)} tokens\")"
   ]
  },
  {
   "cell_type": "markdown",
   "metadata": {
    "id": "ZGLH286__PAu"
   },
   "source": [
    "## Thought Exercises\n",
    "\n",
    "1. **Impact of Vocabulary Size:**\n",
    "   - **Question:** How does the vocabulary size differ between tokenization methods, and what is the impact on the model?\n",
    "\n",
    "2. **Trade-offs in Tokenization:**\n",
    "   - **Question:** What are the advantages and disadvantages of each tokenization method in handling rare or unknown words?\n",
    "\n",
    "3. **Model Performance:**\n",
    "   - **Question:** Why might one tokenization method yield better performance than others in this classification task?\n"
   ]
  }
 ],
 "metadata": {
  "colab": {
   "authorship_tag": "ABX9TyNwDISPXRAs1SY5htsNkNtb",
   "provenance": [],
   "toc_visible": true
  },
  "kernelspec": {
   "display_name": "Python 3",
   "name": "python3"
  },
  "language_info": {
   "codemirror_mode": {
    "name": "ipython",
    "version": 3
   },
   "file_extension": ".py",
   "mimetype": "text/x-python",
   "name": "python",
   "nbconvert_exporter": "python",
   "pygments_lexer": "ipython3",
   "version": "3.12.1"
  }
 },
 "nbformat": 4,
 "nbformat_minor": 0
}
