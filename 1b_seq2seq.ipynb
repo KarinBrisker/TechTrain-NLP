{
 "cells": [
  {
   "cell_type": "markdown",
   "metadata": {
    "id": "UFm8dANmzl3i"
   },
   "source": [
    "# **Sequence-to-Sequence (Seq2Seq) Model**\n",
    "\n",
    "In this notebook, we'll build a basic Seq2Seq model using Recurrent Neural Networks (RNNs) to perform English to Hebrew translation on a small dataset. We'll implement an encoder-decoder architecture.\n",
    "\n"
   ]
  },
  {
   "cell_type": "markdown",
   "metadata": {},
   "source": [
    "# Setup"
   ]
  },
  {
   "cell_type": "code",
   "execution_count": null,
   "metadata": {},
   "outputs": [],
   "source": [
    "%pip install torch numpy matplotlib"
   ]
  },
  {
   "cell_type": "markdown",
   "metadata": {
    "id": "anGiy-2pzxkn"
   },
   "source": [
    "<a id=\"1\"></a>\n",
    "## **1. Import Libraries**\n",
    "\n",
    "*In this section, we'll import all the necessary libraries required for building and training our Seq2Seq model.*"
   ]
  },
  {
   "cell_type": "code",
   "execution_count": null,
   "metadata": {
    "id": "_8htUpi6zuGc"
   },
   "outputs": [],
   "source": [
    "import torch\n",
    "import torch.nn as nn\n",
    "import torch.optim as optim\n",
    "import random\n",
    "import re\n",
    "import numpy as np\n",
    "from torch.utils.data import DataLoader, Dataset\n",
    "from collections import Counter\n",
    "import matplotlib.pyplot as plt"
   ]
  },
  {
   "cell_type": "markdown",
   "metadata": {
    "id": "EAd67eRfz2Xa"
   },
   "source": [
    "<a id=\"2\"></a>\n",
    "## **2. Prepare the Data**\n",
    "\n",
    "We'll create a small dataset of English-Hebrew sentence pairs and preprocess them for our model."
   ]
  },
  {
   "cell_type": "code",
   "execution_count": null,
   "metadata": {
    "colab": {
     "base_uri": "https://localhost:8080/"
    },
    "id": "nMeiYDCvzvf3",
    "outputId": "a8e1ab75-8240-4e36-cef5-89ece28b8cfd"
   },
   "outputs": [],
   "source": [
    "# Sample data: English to Hebrew sentences\n",
    "data = [\n",
    "    ('Hello', 'שלום'),\n",
    "    ('How are you?', 'מה שלומך?'),\n",
    "    ('I am fine', 'אני בסדר'),\n",
    "    ('Thank you', 'תודה'),\n",
    "    ('Good night :)', 'לילה טוב :)'),\n",
    "    ('See you later', 'נתראה אחר כך'),\n",
    "    ('Good morning', 'בוקר טוב'),\n",
    "    ('Have a nice day', 'יום נעים'),\n",
    "    ('I love you', 'אני אוהב אותך'),\n",
    "    ('Goodbye!!!', 'להתראות!!!')\n",
    "]\n",
    "\n",
    "# TODO: Implement the preprocess_sentence function\n",
    "def preprocess_sentence(sentence):\n",
    "    \"\"\"\n",
    "    Preprocess the input sentence by lowercasing and removing non-alphabetic characters.\n",
    "\n",
    "    Args:\n",
    "        sentence (str): Input sentence.\n",
    "\n",
    "    Returns:\n",
    "        str: Preprocessed sentence.\n",
    "    \"\"\"\n",
    "    # Your code here\n",
    "    pass\n",
    "\n",
    "# Preprocess and split data into input and target sentences\n",
    "input_texts = []\n",
    "target_texts = []\n",
    "for input_sentence, target_sentence in data:\n",
    "    input_texts.append(preprocess_sentence(input_sentence))\n",
    "    target_texts.append(preprocess_sentence(target_sentence))\n",
    "\n",
    "print(\"Input sentences:\", input_texts)\n",
    "print(\"Target sentences:\", target_texts)"
   ]
  },
  {
   "cell_type": "markdown",
   "metadata": {
    "id": "An5jZA9Sz8uc"
   },
   "source": [
    "<a id=\"2.1\"></a>\n",
    "### **2.1. Build Vocabulary**\n",
    "\n",
    "We'll build vocabularies for both the input (English) and target (Hebrew) languages."
   ]
  },
  {
   "cell_type": "code",
   "execution_count": null,
   "metadata": {
    "id": "aeunnji_z4RG"
   },
   "outputs": [],
   "source": [
    "# Build vocabulary\n",
    "def build_vocab(sentences):\n",
    "    word_counts = Counter()\n",
    "    for sentence in sentences:\n",
    "        word_counts.update(sentence.split())\n",
    "    vocab = ['<PAD>', '<SOS>', '<EOS>', '<UNK>'] + sorted(word_counts)\n",
    "    word2idx = {word: idx for idx, word in enumerate(vocab)}\n",
    "    idx2word = {idx: word for word, idx in word2idx.items()}\n",
    "    return vocab, word2idx, idx2word\n",
    "\n",
    "input_vocab, input_word2idx, input_idx2word = build_vocab(input_texts)\n",
    "target_vocab, target_word2idx, target_idx2word = build_vocab(target_texts)\n",
    "\n",
    "print(\"Input Vocabulary Size:\", len(input_vocab))\n",
    "print(\"Target Vocabulary Size:\", len(target_vocab))"
   ]
  },
  {
   "cell_type": "markdown",
   "metadata": {
    "id": "FQmeIPPJ0A8e"
   },
   "source": [
    "<a id=\"2.2\"></a>\n",
    "### **2.2. Convert Sentences to Sequences**\n",
    "\n",
    "We'll convert each sentence into a sequence of indices based on the vocabularies."
   ]
  },
  {
   "cell_type": "code",
   "execution_count": null,
   "metadata": {
    "id": "3eTl5wZUz6--"
   },
   "outputs": [],
   "source": [
    "# TODO: Implement the sentence_to_indices function\n",
    "def sentence_to_indices(sentence, word2idx):\n",
    "    \"\"\"\n",
    "    Convert a sentence into a list of indices based on the vocabulary.\n",
    "\n",
    "    Args:\n",
    "        sentence (str): Input sentence.\n",
    "        word2idx (dict): Mapping from words to indices.\n",
    "\n",
    "    Returns:\n",
    "        list of int: List of word indices.\n",
    "    \"\"\"\n",
    "    # Your code here\n",
    "    pass\n",
    "\n",
    "input_sequences = [sentence_to_indices(sentence, input_word2idx) for sentence in input_texts]\n",
    "target_sequences = [sentence_to_indices(sentence, target_word2idx) for sentence in target_texts]\n",
    "\n",
    "# Add <SOS> and <EOS> tokens to target sequences\n",
    "target_sequences_input = [[target_word2idx['<SOS>']] + seq for seq in target_sequences]\n",
    "target_sequences_output = [seq + [target_word2idx['<EOS>']] for seq in target_sequences]\n",
    "\n",
    "print(\"Example input sequence:\", input_sequences[0])\n",
    "print(\"Example target input sequence:\", target_sequences_input[0])\n",
    "print(\"Example target output sequence:\", target_sequences_output[0])"
   ]
  },
  {
   "cell_type": "markdown",
   "metadata": {
    "id": "-gkmBwL00FdC"
   },
   "source": [
    "<a id=\"2.3\"></a>\n",
    "### **2.3. Pad Sequences and Create Dataset**\n",
    "\n",
    "We'll pad all sequences to the same length and create a PyTorch Dataset and DataLoader."
   ]
  },
  {
   "cell_type": "code",
   "execution_count": null,
   "metadata": {
    "id": "a3kM4Y6W0Glx"
   },
   "outputs": [],
   "source": [
    "# Pad sequences to the same length\n",
    "def pad_sequences(sequences, max_len, padding_value=0):\n",
    "    return [seq + [padding_value]*(max_len - len(seq)) for seq in sequences]\n",
    "\n",
    "max_input_len = max(len(seq) for seq in input_sequences)\n",
    "max_target_len = max(len(seq) for seq in target_sequences_input)\n",
    "\n",
    "input_sequences = pad_sequences(input_sequences, max_input_len)\n",
    "target_sequences_input = pad_sequences(target_sequences_input, max_target_len)\n",
    "target_sequences_output = pad_sequences(target_sequences_output, max_target_len)\n",
    "\n",
    "# Create Dataset\n",
    "class TranslationDataset(Dataset):\n",
    "    def __init__(self, input_sequences, target_sequences_input, target_sequences_output):\n",
    "        self.input_sequences = input_sequences\n",
    "        self.target_sequences_input = target_sequences_input\n",
    "        self.target_sequences_output = target_sequences_output\n",
    "\n",
    "    def __len__(self):\n",
    "        return len(self.input_sequences)\n",
    "\n",
    "    def __getitem__(self, idx):\n",
    "        return (torch.tensor(self.input_sequences[idx], dtype=torch.long),\n",
    "                torch.tensor(self.target_sequences_input[idx], dtype=torch.long),\n",
    "                torch.tensor(self.target_sequences_output[idx], dtype=torch.long))\n",
    "\n",
    "dataset = TranslationDataset(input_sequences, target_sequences_input, target_sequences_output)\n",
    "dataloader = DataLoader(dataset, batch_size=2, shuffle=True)"
   ]
  },
  {
   "cell_type": "markdown",
   "metadata": {
    "id": "VMrhESzw0Kvu"
   },
   "source": [
    "<a id=\"3\"></a>\n",
    "## **3. Define the Seq2Seq Model**\n",
    "\n",
    "We'll define the Encoder, Decoder, and the Seq2Seq model classes.\n",
    "![image.png](data:image/png;base64,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)"
   ]
  },
  {
   "cell_type": "markdown",
   "metadata": {
    "id": "nfMOD7l93Qlr"
   },
   "source": [
    "<a id=\"3.1\"></a>\n",
    "### **3.1. Encoder**\n",
    "\n",
    "The Encoder processes the input sequence and encodes it into a context vector.\n"
   ]
  },
  {
   "cell_type": "code",
   "execution_count": null,
   "metadata": {
    "id": "SFWWHDbY0Nnd"
   },
   "outputs": [],
   "source": [
    "class Encoder(nn.Module):\n",
    "    def __init__(self, input_vocab_size, embed_size, hidden_size):\n",
    "        super(Encoder, self).__init__()\n",
    "        self.embedding = nn.Embedding(input_vocab_size, embed_size)\n",
    "        self.rnn = nn.GRU(embed_size, hidden_size, batch_first=True)\n",
    "\n",
    "    def forward(self, x):\n",
    "        embedded = self.embedding(x)  # (batch_size, seq_len, embed_size)\n",
    "        outputs, hidden = self.rnn(embedded)  # outputs: (batch_size, seq_len, hidden_size)\n",
    "        return hidden  # hidden: (1, batch_size, hidden_size)"
   ]
  },
  {
   "cell_type": "markdown",
   "metadata": {
    "id": "rBe62Chq0Qwk"
   },
   "source": [
    "<a id=\"3.2\"></a>\n",
    "### **3.2. Decoder**\n",
    "\n",
    "The Decoder generates the target sequence one token at a time, using the context vector from the Encoder.\n"
   ]
  },
  {
   "cell_type": "code",
   "execution_count": null,
   "metadata": {
    "id": "9w63gh-q0RmR"
   },
   "outputs": [],
   "source": [
    "class Decoder(nn.Module):\n",
    "    def __init__(self, target_vocab_size, embed_size, hidden_size):\n",
    "        super(Decoder, self).__init__()\n",
    "        self.embedding = nn.Embedding(target_vocab_size, embed_size)\n",
    "        self.rnn = nn.GRU(embed_size, hidden_size, batch_first=True)\n",
    "        self.fc = nn.Linear(hidden_size, target_vocab_size)\n",
    "\n",
    "    def forward(self, x, hidden):\n",
    "        x = x.unsqueeze(1)  # (batch_size, 1)\n",
    "        embedded = self.embedding(x)  # (batch_size, 1, embed_size)\n",
    "        output, hidden = self.rnn(embedded, hidden)  # output: (batch_size, 1, hidden_size)\n",
    "        prediction = self.fc(output.squeeze(1))  # (batch_size, target_vocab_size)\n",
    "        return prediction, hidden"
   ]
  },
  {
   "cell_type": "markdown",
   "metadata": {
    "id": "m0tGjvFh0VH9"
   },
   "source": [
    "\n",
    "<a id=\"3.3\"></a>\n",
    "### **3.3. Seq2Seq Model**\n",
    "\n",
    "The Seq2Seq model combines the Encoder and Decoder and handles the training process."
   ]
  },
  {
   "cell_type": "code",
   "execution_count": null,
   "metadata": {
    "id": "9OdmRuEO0TIz"
   },
   "outputs": [],
   "source": [
    "class Seq2Seq(nn.Module):\n",
    "    def __init__(self, encoder, decoder, device):\n",
    "        super(Seq2Seq, self).__init__()\n",
    "        self.encoder = encoder\n",
    "        self.decoder = decoder\n",
    "        self.device = device\n",
    "\n",
    "    def forward(self, source, target, teacher_forcing_ratio=0.5):\n",
    "        batch_size = source.size(0)\n",
    "        target_len = target.size(1)\n",
    "        target_vocab_size = self.decoder.fc.out_features\n",
    "\n",
    "        # Tensor to store decoder outputs\n",
    "        outputs = torch.zeros(batch_size, target_len, target_vocab_size).to(self.device)\n",
    "\n",
    "        hidden = self.encoder(source)  # Get encoder hidden state\n",
    "\n",
    "        # First input to the decoder is the <SOS> tokens\n",
    "        input = target[:,0]\n",
    "\n",
    "        for t in range(1, target_len):\n",
    "            output, hidden = self.decoder(input, hidden)\n",
    "            outputs[:,t] = output\n",
    "            top1 = output.argmax(1)\n",
    "            input = target[:,t] if random.random() < teacher_forcing_ratio else top1\n",
    "        return outputs"
   ]
  },
  {
   "cell_type": "markdown",
   "metadata": {
    "id": "nhTybSB50cQ-"
   },
   "source": [
    "<a id=\"4\"></a>\n",
    "## **4. Training the Model**\n",
    "\n",
    "We'll train the Seq2Seq model using the training data.\n"
   ]
  },
  {
   "cell_type": "code",
   "execution_count": null,
   "metadata": {
    "id": "QjcSyPKI0ZoV"
   },
   "outputs": [],
   "source": [
    "device = torch.device('cuda' if torch.cuda.is_available() else 'cpu')\n",
    "\n",
    "# Hyperparameters\n",
    "input_vocab_size = len(input_vocab)\n",
    "target_vocab_size = len(target_vocab)\n",
    "embed_size = 16\n",
    "hidden_size = 32\n",
    "learning_rate = 0.01\n",
    "num_epochs = 200\n",
    "\n",
    "encoder = Encoder(input_vocab_size, embed_size, hidden_size).to(device)\n",
    "decoder = Decoder(target_vocab_size, embed_size, hidden_size).to(device)\n",
    "model = Seq2Seq(encoder, decoder, device).to(device)\n",
    "\n",
    "criterion = nn.CrossEntropyLoss(ignore_index=0)\n",
    "optimizer = optim.Adam(model.parameters(), lr=learning_rate)\n",
    "\n",
    "for epoch in range(num_epochs):\n",
    "    model.train()\n",
    "    epoch_loss = 0\n",
    "    for src_batch, trg_input_batch, trg_output_batch in dataloader:\n",
    "        src_batch = src_batch.to(device)\n",
    "        trg_input_batch = trg_input_batch.to(device)\n",
    "        trg_output_batch = trg_output_batch.to(device)\n",
    "\n",
    "        optimizer.zero_grad()\n",
    "        output = model(src_batch, trg_input_batch)\n",
    "\n",
    "        output_dim = output.shape[-1]\n",
    "        output = output[:,1:].reshape(-1, output_dim)\n",
    "        trg_output_batch = trg_output_batch[:,1:].reshape(-1)\n",
    "\n",
    "        loss = criterion(output, trg_output_batch)\n",
    "        loss.backward()\n",
    "        optimizer.step()\n",
    "        epoch_loss += loss.item()\n",
    "\n",
    "    if (epoch+1)%20 == 0:\n",
    "        avg_loss = epoch_loss / len(dataloader)\n",
    "        print(f'Epoch [{epoch+1}/{num_epochs}], Loss: {avg_loss:.4f}')"
   ]
  },
  {
   "cell_type": "markdown",
   "metadata": {
    "id": "2PDUFOGj0h6q"
   },
   "source": [
    "<a id=\"5\"></a>\n",
    "## **5. Testing the Model**\n",
    "\n",
    "We'll define a function to translate new English sentences into Hebrew using the trained model.\n"
   ]
  },
  {
   "cell_type": "code",
   "execution_count": null,
   "metadata": {
    "id": "f3w1umB40fI1"
   },
   "outputs": [],
   "source": [
    "def translate(sentence):\n",
    "    model.eval()\n",
    "    with torch.no_grad():\n",
    "        sentence = preprocess_sentence(sentence)\n",
    "        sequence = sentence_to_indices(sentence, input_word2idx)\n",
    "        sequence = pad_sequences([sequence], max_input_len)\n",
    "        sequence = torch.tensor(sequence, dtype=torch.long).to(device)\n",
    "        hidden = model.encoder(sequence)\n",
    "\n",
    "        input_token = torch.tensor([target_word2idx['<SOS>']], dtype=torch.long).to(device)\n",
    "        outputs = []\n",
    "        max_len = max_target_len\n",
    "        for _ in range(max_len):\n",
    "            output, hidden = model.decoder(input_token, hidden)\n",
    "            top1 = output.argmax(1)\n",
    "            if top1.item() == target_word2idx['<EOS>']:\n",
    "                break\n",
    "            outputs.append(top1.item())\n",
    "            input_token = top1\n",
    "        translated_sentence = ' '.join([target_idx2word[idx] for idx in outputs])\n",
    "    return translated_sentence\n",
    "\n",
    "# Test the model\n",
    "test_sentences = [\n",
    "    'hello',\n",
    "    'thank you',\n",
    "    'good morning',\n",
    "    'see you later',\n",
    "    'i am fine'\n",
    "]\n",
    "\n",
    "for sentence in test_sentences:\n",
    "    translation = translate(sentence)\n",
    "    print(f'{sentence} -> {translation}')"
   ]
  },
  {
   "cell_type": "markdown",
   "metadata": {},
   "source": [
    "## **6. Generating Text (Advanced)**\n",
    "\n",
    "1.\tHow can this model be adapted to generate text?\n",
    "2.\tTry implementing a text generation function and see what you get\n"
   ]
  },
  {
   "cell_type": "markdown",
   "metadata": {
    "id": "tvxBb1_d429-"
   },
   "source": [
    "## **7. Conclusion**\n",
    "\n",
    "In this notebook, we embarked on a journey to understand the fundamentals of Sequence-to-Sequence (Seq2Seq) models by building a simple English to Hebrew translator using Recurrent Neural Networks (RNNs).\n",
    "Despite the simplicity and small dataset, this exercise demonstrates the fundamental concepts behind seq2seq models.\n",
    "\n",
    "\n",
    "**Key Takeaways:**\n",
    "\n",
    "- **Encoder-Decoder Architecture:**\n",
    "  - The Seq2Seq model consists of two main components: the **encoder** and the **decoder**.\n",
    "  - The **encoder** processes the input sequence and compresses the information into a fixed-size context vector (hidden state).\n",
    "  - The **decoder** uses this context vector to generate the output sequence, word by word.\n",
    "  - This architecture allows the model to handle input and output sequences of different lengths, which is essential in tasks like machine translation.\n",
    "\n",
    "- **Handling Variable-Length Sequences:**\n",
    "  - Natural language sentences vary in length, so we need a way to process them in batches.\n",
    "  - We introduced special tokens:\n",
    "    - `<PAD>`: Padding token to ensure all sequences in a batch are the same length.\n",
    "    - `<SOS>`: Start-of-sentence token to indicate the beginning of a target sequence for the decoder.\n",
    "    - `<EOS>`: End-of-sentence token to signal the end of a sequence.\n",
    "  - Padding sequences allows us to leverage efficient batch processing in training.\n",
    "\n",
    "- **Teacher Forcing:**\n",
    "  - **Teacher forcing** is a training strategy where the actual target word is fed as the next input to the decoder during training.\n",
    "  - It helps the model converge faster by providing the correct context at each step.\n",
    "  - However, it may lead to exposure bias, where the model relies heavily on previous correct inputs and may struggle during inference when such inputs are not available.\n",
    "\n",
    "**Model Performance and Limitations:**\n",
    "\n",
    "- **Small Dataset Constraints:**\n",
    "  - Our model was trained on a very limited dataset of 10 sentence pairs.\n",
    "  - This small size restricts the model's ability to generalize to new, unseen sentences.\n",
    "  - It may perform adequately on training data but poorly on unfamiliar inputs due to overfitting.\n",
    "  - the decoder relies solely on the final hidden state of the encoder (the context vector).\n",
    "  - This can create a bottleneck, especially for longer sentences, as the fixed-size vector may not capture all necessary information.\n",
    "  - The model's performance may degrade with increasing sentence length due to loss of context."
   ]
  },
  {
   "cell_type": "markdown",
   "metadata": {
    "id": "U88C8yff1Lm_"
   },
   "source": [
    "<a id=\"8\"></a>\n",
    "## **8. Further Reading**\n",
    "\n",
    "- [Sequence to Sequence Learning with Neural Networks](https://arxiv.org/abs/1409.3215)\n",
    "- [Understanding Simple Recurrent Networks](https://colah.github.io/posts/2015-08-Understanding-LSTMs/)\n",
    "- [PyTorch Seq2Seq Tutorial](https://pytorch.org/tutorials/intermediate/seq2seq_translation_tutorial.html)"
   ]
  },
  {
   "cell_type": "code",
   "execution_count": null,
   "metadata": {
    "id": "w3jpZ1kI1MFC"
   },
   "outputs": [],
   "source": []
  }
 ],
 "metadata": {
  "colab": {
   "provenance": []
  },
  "kernelspec": {
   "display_name": ".venv",
   "language": "python",
   "name": "python3"
  },
  "language_info": {
   "codemirror_mode": {
    "name": "ipython",
    "version": 3
   },
   "file_extension": ".py",
   "mimetype": "text/x-python",
   "name": "python",
   "nbconvert_exporter": "python",
   "pygments_lexer": "ipython3",
   "version": "3.12.1"
  }
 },
 "nbformat": 4,
 "nbformat_minor": 0
}
